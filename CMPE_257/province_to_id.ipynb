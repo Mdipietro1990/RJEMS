{
 "cells": [
  {
   "cell_type": "code",
   "execution_count": 96,
   "metadata": {
    "collapsed": true
   },
   "outputs": [],
   "source": [
    "import pandas as pd\n",
    "import re"
   ]
  },
  {
   "cell_type": "code",
   "execution_count": 203,
   "metadata": {},
   "outputs": [],
   "source": [
    "df = pd.read_csv('/Users/matt/Downloads/wine-reviews/winemag-data-130k-v2.csv', sep=',')"
   ]
  },
  {
   "cell_type": "code",
   "execution_count": 208,
   "metadata": {},
   "outputs": [
    {
     "data": {
      "text/plain": [
       "0                         Nicosia 2013 Vulkà Bianco  (Etna)\n1             Quinta dos Avidagos 2011 Avidagos Red (Douro)\n2             Rainstorm 2013 Pinot Gris (Willamette Valley)\n3         St. Julian 2013 Reserve Late Harvest Riesling ...\n4         Sweet Cheeks 2012 Vintner's Reserve Wild Child...\n5         Tandem 2011 Ars In Vitro Tempranillo-Merlot (N...\n6          Terre di Giurfo 2013 Belsito Frappato (Vittoria)\n7                     Trimbach 2012 Gewurztraminer (Alsace)\n8         Heinz Eifel 2013 Shine Gewürztraminer (Rheinhe...\n9         Jean-Baptiste Adam 2012 Les Natures Pinot Gris...\n10        Kirkland Signature 2011 Mountain Cuvée Caberne...\n11                  Leon Beyer 2012 Gewurztraminer (Alsace)\n12        Louis M. Martini 2012 Cabernet Sauvignon (Alex...\n13                   Masseria Setteporte 2012 Rosso  (Etna)\n14                 Mirassou 2012 Chardonnay (Central Coast)\n15              Richard Böcking 2013 Devon Riesling (Mosel)\n16               Felix Lavaque 2010 Felix Malbec (Cafayate)\n17        Gaucho Andino 2011 Winemaker Selection Malbec ...\n18        Pradorey 2010 Vendimia Seleccionada Finca Vald...\n19                     Quiévremont 2012 Meritage (Virginia)\n20            Quiévremont 2012 Vin de Maison Red (Virginia)\n21                         Acrobat 2013 Pinot Noir (Oregon)\n22        Baglio di Pianetto 2007 Ficiligno White (Sicilia)\n23        Bianchi 2011 Signature Selection Merlot (Paso ...\n24              Canicattì 2009 Aynat Nero d'Avola (Sicilia)\n25        Castello di Amorosa 2011 King Ridge Vineyard P...\n26             Stemmari 2013 Dalila White (Terre Siciliane)\n27             Stemmari 2013 Nero d'Avola (Terre Siciliane)\n28        Terre di Giurfo 2011 Mascaria Barricato  (Cera...\n29        Clarksburg Wine Company 2010 Chenin Blanc (Cla...\n                                ...                        \n129941           Apriori 2013 Chardonnay (Mendocino County)\n129942     Arrowood 2010 Cabernet Sauvignon (Sonoma County)\n129943    Baglio del Cristo di Campobello 2012 Adènzia R...\n129944    Barkan 2011 Special Reserve Winemakers' Choice...\n129945    Birichino 2013 Jurassic Park Vineyard Old Vine...\n129946    Bischöfliche Weingüter Trier 2013 Dom Riesling...\n129947    Feudo Principi di Butera 2012 Symposio Red (Te...\n129948      Finca Las Moras 2010 Pedernal Malbec (San Juan)\n129949    Flora Springs 2013 Barrel Fermented Chardonnay...\n129950    Hendry 2012 Blocks 7 & 22 Zinfandel (Napa Valley)\n129951    Henri Schoenheitz 2012 Holder Gewurztraminer (...\n129952               Houdini 2011 Zinfandel (Chiles Valley)\n129953    Mills Reef 2011 Elspeth Cabernet Merlot (Hawke...\n129954      Ara 2013 Single Estate Pinot Gris (Marlborough)\n129955              Dog Point 2012 Chardonnay (Marlborough)\n129956    Esk Valley 2011 Gimblett Gravels Merlot-Cabern...\n129957             Viñedos Real Rubio 2010 Crianza  (Rioja)\n129958               Babich 2010 Irongate Red (Hawke's Bay)\n129959    Cave de Turckheim 2010 Brand Grand Cru Pinot G...\n129960    Caves Transmontanas 2006 Vértice Pinot Noir (D...\n129961                          COS 2013 Frappato (Sicilia)\n129962    Cusumano 2012 Sàgana Tenuta San Giacomo Nero d...\n129963    Dalton 2012 Oak Aged Cabernet Sauvignon (Galilee)\n129964    Domaine Ehrhart 2013 Domaine Saint-Rémy Herren...\n129965    Domaine Rieflé-Landmann 2013 Seppi Landmann Va...\n129966    Dr. H. Thanisch (Erben Müller-Burggraef) 2013 ...\n129967                    Citation 2004 Pinot Noir (Oregon)\n129968    Domaine Gresser 2013 Kritt Gewurztraminer (Als...\n129969        Domaine Marcel Deiss 2012 Pinot Gris (Alsace)\n129970    Domaine Schoffit 2012 Lieu-dit Harth Cuvée Car...\nName: title, Length: 129971, dtype: object"
      ]
     },
     "execution_count": 208,
     "metadata": {},
     "output_type": "execute_result"
    }
   ],
   "source": [
    "df['title']"
   ]
  },
  {
   "cell_type": "code",
   "execution_count": 283,
   "metadata": {},
   "outputs": [],
   "source": [
    "df['year'] = df['title'].str.extract('(\\d\\d\\d\\d)',expand=True)"
   ]
  },
  {
   "cell_type": "code",
   "execution_count": 284,
   "metadata": {},
   "outputs": [
    {
     "data": {
      "text/plain": [
       "0         2013\n1         2011\n2         2013\n3         2013\n4         2012\n5         2011\n6         2013\n7         2012\n8         2013\n9         2012\n10        2011\n11        2012\n12        2012\n13        2012\n14        2012\n15        2013\n16        2010\n17        2011\n18        2010\n19        2012\n20        2012\n21        2013\n22        2007\n23        2011\n24        2009\n25        2011\n26        2013\n27        2013\n28        2011\n29        2010\n          ... \n129941    2013\n129942    2010\n129943    2012\n129944    2011\n129945    2013\n129946    2013\n129947    2012\n129948    2010\n129949    2013\n129950    2012\n129951    2012\n129952    2011\n129953    2011\n129954    2013\n129955    2012\n129956    2011\n129957    2010\n129958    2010\n129959    2010\n129960    2006\n129961    2013\n129962    2012\n129963    2012\n129964    2013\n129965    2013\n129966    2013\n129967    2004\n129968    2013\n129969    2012\n129970    2012\nName: year, Length: 129971, dtype: object"
      ]
     },
     "execution_count": 284,
     "metadata": {},
     "output_type": "execute_result"
    }
   ],
   "source": [
    "df['year']"
   ]
  },
  {
   "cell_type": "code",
   "execution_count": 285,
   "metadata": {},
   "outputs": [],
   "source": [
    "df['year'].to_csv('/Users/matt/Desktop/year.csv')"
   ]
  },
  {
   "cell_type": "code",
   "execution_count": 290,
   "metadata": {},
   "outputs": [
    {
     "data": {
      "text/plain": [
       "array(['Sicily & Sardinia', 'Douro', 'Oregon', 'Michigan',\n       'Northern Spain', 'Alsace', 'Rheinhessen', 'California', 'Mosel',\n       'Other', 'Mendoza Province', 'Virginia', 'Beaujolais',\n       'Colchagua Valley', 'Southern Italy', 'Maule Valley', 'Bordeaux',\n       'Maipo Valley', 'Washington', 'Central Italy', 'Champagne',\n       'Burgundy', 'South Australia', 'Tejo', 'Rapel Valley', 'Galicia',\n       'France Other', 'Tuscany', 'Burgenland', 'New York',\n       'Leyda Valley', 'Piedmont', 'Stellenbosch',\n       'Simonsberg-Stellenbosch', 'Walker Bay', 'Alentejano',\n       'Central Spain', 'Southwest France', 'Aconcagua Valley',\n       'Loncomilla Valley', 'Marlborough', 'Northeastern Italy',\n       'Casablanca Valley', 'Veneto', 'Western Cape', 'Judean Hills',\n       'Alentejo', 'Coastal Region', 'Rh\\xc3\\xb4ne Valley', 'Galilee',\n       'Beira Atlantico', 'Tokaj', 'Leithaberg', 'Santorini', 'Kremstal',\n       'Catalonia', 'Recas', \"Hawke's Bay\", 'Curic\\xc3\\xb3 Valley',\n       'Limar\\xc3\\xad Valley', 'Colchagua Costa', 'Languedoc-Roussillon',\n       'Provence', 'Victoria', 'Rheingau', 'Tokaji', 'Naoussa',\n       'Valle de Guadalupe', 'Central Valley', 'Lontu\\xc3\\xa9 Valley',\n       'Italy Other', 'Weinviertel', 'Thermenregion',\n       'Nieder\\xc3\\xb6sterreich', 'Wagram', 'Loire Valley', 'Lombardy',\n       'Ontario', '\\xc3\\x96sterreichischer Sekt', 'Kamptal', 'Steiermark',\n       'S\\xc3\\xbcdsteiermark', 'Crete', 'Vinho Verde', 'Idaho',\n       'Western Australia', 'Levante', 'Martinborough', 'Central Otago',\n       'Lisboa', 'Texas', 'Pen\\xc3\\xadnsula de Set\\xc3\\xbabal',\n       'Australia Other', 'Tasmania', 'Franken', 'Ahr', 'Nahe', nan,\n       'Dealu Mare', 'Port', 'Darling', 'Chile',\n       'S\\xc3\\xbcdoststeiermark', 'Corinth', 'Halkidiki', 'Thrace',\n       'Pfalz', 'Robertson', 'Dan', 'Northwestern Italy', 'Andalucia',\n       'Awatere Valley', 'Wiener Gemischter Satz', 'Wachau',\n       'Pennsylvania', 'Swartland', 'D\\xc3\\xa3o', 'Wagram-Donauland',\n       'Rio Claro', 'Vill\\xc3\\xa1ny', 'Cachapoal Valley', 'Jidvei',\n       'America', 'Traisental', 'Bairrada', 'Negev Hills', 'Ribatejano',\n       'Duriense', 'New Jersey', 'Beiras', 'Spanish Islands',\n       'Upper Galilee', 'Vinho Espumante', 'Epanomi', 'Nemea',\n       'Peloponnese', 'Aconcagua Costa', 'Moravia', 'Slovenia',\n       'Terras do D\\xc3\\xa3o', 'Beira Interior', 'Panciu',\n       'B\\xc3\\xado B\\xc3\\xado Valley', 'Romania', 'Portuguese Table Wine',\n       'Minho', 'Missouri', 'New Mexico', 'Nevada', 'Bucelas', 'Peumo',\n       'San Antonio', 'Carnuntum', 'Estremadura', 'Canterbury',\n       'Spain Other', 'Drama', 'Ella Valley', 'Moselle Luxembourgeoise',\n       'W\\xc3\\xbcrttemberg', 'Baden', 'Pangeon', 'Elqui Valley',\n       'Wairau Valley', 'Istria', 'Peljesac', 'Kakheti', 'Canelones',\n       'England', 'Marchigue', 'Paarl', 'Durbanville',\n       'Weinland \\xc3\\x96sterreich', 'Mantinia', 'Chalkidiki', 'Lebanon',\n       'Setubal', 'Mosel-Saar-Ruwer', 'Colorado', 'Pocerina',\n       'British Columbia', 'Puente Alto', 'Kumeu',\n       'Tr\\xc3\\xa1s-os-Montes', 'Shomron', 'Rapsani', 'Vienna',\n       'New South Wales', 'Nelson', 'Waipara Valley', 'Constantia',\n       'Arizona', 'Pinto Bandeira', 'Primorska', 'Moldova', 'Uruguay',\n       'Zenata', 'South Africa', 'Massachusetts', 'Ohio', 'Ica',\n       'San Vicente', 'Nashik', 'Franschhoek', 'South Island',\n       'Atlantida', 'Thracian Valley', 'Tarnave', 'Vipavska Dolina',\n       'Bekaa Valley', 'Elgin', 'Itata Valley', 'Table wine', 'Samson',\n       'Madeira', 'Cyprus', 'Pageon', 'Vinho Espumante de Qualidade',\n       'Wellington', 'Danube River Plains', 'Gisborne', 'Obidos',\n       'Wairarapa', 'Armenia', 'Santa Cruz', 'Kor\\xc4\\x8dula',\n       'Viile Timisului', 'Illinois', 'Aegean', 'Simonsberg-Paarl',\n       'Juanico', 'Black Sea Coastal', 'Santa Catarina', 'Overberg',\n       'Atalanti Valley', 'Sebes', 'Moscatel de Set\\xc3\\xbabal',\n       'Macedonia', 'Ribatejo', 'Germany', 'Palmela', 'Galil', 'Kras',\n       'Croatia', 'Waipara', 'Olifants River', 'Montevideo', 'Campanha',\n       'Israel', 'Neusiedlersee', 'Hungary', 'Lolol Valley',\n       'Cauquenes Valley', 'Groenekloof', 'Alenquer', 'Goriska Brda',\n       'Murfatlar', 'Moscatel do Douro', 'Washington-Oregon',\n       'New Zealand', 'Serra Ga\\xc3\\xbacha', 'San Jose',\n       'Vale dos Vinhedos', 'Mittelburgenland', 'Lutzville Valley',\n       'North Carolina', 'Apalta', 'Malleco', 'Guerrouane', 'Valais',\n       'Choapa Valley', 'Georgia', 'Ankara', 'Samos', 'Mittelrhein',\n       'Eisenberg', 'Sagrada Familia', 'Austria', 'Mostar', 'Iowa',\n       'Tulbagh', 'Cederberg', 'Hemel en Aarde', 'Ceres Plateau',\n       'Bot River', 'Patras', 'Korinthia', 'Greece', 'San Clemente',\n       'Podunavlje', 'Florina', 'Buin', 'Haut-Jude\\xc3\\xa9', 'Ukraine',\n       'Terras do Sado', 'Maipo Valley-Colchagua Valley', 'Brazil',\n       'Breedekloof', 'Leyda Valley-Maipo Valley', 'Vermont',\n       'Switzerland', 'Waitaki Valley', 'Eger', 'Golan Heights',\n       'Fru\\xc5\\xa1ka Gora', 'Philadelphia', 'Muzla', 'M\\xc3\\xa1tra',\n       'Pirque', 'Negev', 'Pitsilia Mountains', 'East Coast',\n       'Mavrodaphne of Patras', 'Attica', 'Progreso',\n       'Elaz\\xc4\\xb1\\xc4\\x9f-Diyarbakir', 'Jonkershoek Valley', 'Tikves',\n       'Vale Trentino', 'Turkey', 'Waiheke Island', 'Molina',\n       'Serra do Sudeste', 'Dalmatian Coast', 'Eilandia',\n       'Dealurile Munteniei', 'Thraki', 'Curic\\xc3\\xb3 and Maipo Valleys',\n       '\\xc5\\xa0tajerska', 'Middle and South Dalmatia', 'Kentucky',\n       '\\xc5\\xbdupa', 'Pafos', 'Monemvasia', 'Szeksz\\xc3\\xa1rd',\n       'Elaz\\xc4\\xb1\\xc4\\x9f', 'Cappadocia', 'Kutjevo', 'Ismarikos',\n       'Connecticut', 'Sithonia', 'Curic\\xc3\\xb3 and Leyda Valleys',\n       'Agioritikos', 'Casablanca-Curic\\xc3\\xb3 Valley',\n       'Piekenierskloof', 'Elim', 'Malgas', 'Beotia', 'Algarve',\n       'Retsina', 'Amindeo', 'Coelemu', 'Cape South Coast', 'Sopron',\n       'Bulgaria', 'North Dalmatia', 'Northern Cape', 'Vinho da Mesa',\n       'Hvar', 'Cephalonia', 'Lemesos', 'Cahul', 'Cyclades',\n       'Breede River Valley', 'Ticino', 'Vlootenburg', 'Brda',\n       'Dinga\\xc4\\x8d', 'Morocco', 'Achaia', 'Polkadraai Hills',\n       'Rhode Island', 'Amyndeon', 'V\\xc3\\xa2nju Mare',\n       'Hrvatsko Primorje', 'Central Greece', 'Dolenjska',\n       '\\xc3\\x96sterreichischer Perlwein', 'Requinoa',\n       'Mavrodaphne de Cephalonie', 'Goumenissa', 'Portugal', 'Messinia',\n       'Lakonia', 'Markopoulo', 'Vinho Licoroso', 'Paardeberg',\n       'San Antonio de las Minas Valley', 'Krania Olympus', 'Corinthia',\n       'Slovenska Istra', 'Commandaria', 'Gladstone', 'Jerusalem Hills',\n       'Mount Athos', 'Colares', 'Helderberg',\n       'Casablanca & Leyda Valleys', 'Dealurile Hu\\xc8\\x99ilor',\n       'Urla-Thrace', 'S\\xc3\\xbcdburgenland', 'Cape Peninsula',\n       'Codru Region', 'Sterea Ellada', 'Muscat of Patras', 'Imathia',\n       'Alenteo', 'Canada Other', 'Letrinon', 'Muscat of Kefallonian',\n       'Thessalikos', 'Hawaii', 'China', 'Limnos', 'Egypt', 'Viile Timis',\n       'Devon Valley', 'Krk', 'Arcadia', 'Cape Agulhas', 'Kathikas',\n       'Vin de Pays de Velvendo', 'Landwein Rhein', 'Lesbos',\n       'T\\xc3\\xa1vora-Varosa', 'Neuch\\xc3\\xa2tel'], dtype=object)"
      ]
     },
     "execution_count": 290,
     "metadata": {},
     "output_type": "execute_result"
    }
   ],
   "source": [
    "df.province.unique()"
   ]
  },
  {
   "cell_type": "code",
   "execution_count": 292,
   "metadata": {},
   "outputs": [
    {
     "data": {
      "text/plain": [
       "426"
      ]
     },
     "execution_count": 292,
     "metadata": {},
     "output_type": "execute_result"
    }
   ],
   "source": [
    "len(df.province.unique())\n"
   ]
  },
  {
   "cell_type": "code",
   "execution_count": 293,
   "metadata": {},
   "outputs": [
    {
     "data": {
      "text/plain": [
       "63"
      ]
     },
     "execution_count": 293,
     "metadata": {},
     "output_type": "execute_result"
    }
   ],
   "source": [
    "df.province.isna().sum()\n",
    "df.province.isnull().sum()"
   ]
  },
  {
   "cell_type": "code",
   "execution_count": 294,
   "metadata": {},
   "outputs": [
    {
     "data": {
      "text/plain": [
       "0         Sicily & Sardinia\n1                     Douro\n2                    Oregon\n3                  Michigan\n4                    Oregon\n5            Northern Spain\n6         Sicily & Sardinia\n7                    Alsace\n8               Rheinhessen\n9                    Alsace\n10               California\n11                   Alsace\n12               California\n13        Sicily & Sardinia\n14               California\n15                    Mosel\n16                    Other\n17         Mendoza Province\n18           Northern Spain\n19                 Virginia\n20                 Virginia\n21                   Oregon\n22        Sicily & Sardinia\n23               California\n24        Sicily & Sardinia\n25               California\n26        Sicily & Sardinia\n27        Sicily & Sardinia\n28        Sicily & Sardinia\n29               California\n                ...        \n129941           California\n129942           California\n129943    Sicily & Sardinia\n129944              Galilee\n129945           California\n129946                Mosel\n129947    Sicily & Sardinia\n129948                Other\n129949           California\n129950           California\n129951               Alsace\n129952           California\n129953          Hawke's Bay\n129954          Marlborough\n129955          Marlborough\n129956          Hawke's Bay\n129957       Northern Spain\n129958          Hawke's Bay\n129959               Alsace\n129960                Douro\n129961    Sicily & Sardinia\n129962    Sicily & Sardinia\n129963              Galilee\n129964               Alsace\n129965               Alsace\n129966                Mosel\n129967               Oregon\n129968               Alsace\n129969               Alsace\n129970               Alsace\nName: province, Length: 129908, dtype: object"
      ]
     },
     "execution_count": 294,
     "metadata": {},
     "output_type": "execute_result"
    }
   ],
   "source": [
    "df.province.dropna(inplace=False)"
   ]
  },
  {
   "cell_type": "code",
   "execution_count": 295,
   "metadata": {},
   "outputs": [],
   "source": [
    "df['province'].to_csv('/Users/matt/Desktop/province.csv')"
   ]
  },
  {
   "cell_type": "code",
   "execution_count": 298,
   "metadata": {},
   "outputs": [
    {
     "data": {
      "text/plain": [
       "array(['Sicily & Sardinia', 'Douro', 'Oregon', 'Michigan',\n       'Northern Spain', 'Alsace', 'Rheinhessen', 'California', 'Mosel',\n       'Other', 'Mendoza Province', 'Virginia', 'Beaujolais',\n       'Colchagua Valley', 'Southern Italy', 'Maule Valley', 'Bordeaux',\n       'Maipo Valley', 'Washington', 'Central Italy', 'Champagne',\n       'Burgundy', 'South Australia', 'Tejo', 'Rapel Valley', 'Galicia',\n       'France Other', 'Tuscany', 'Burgenland', 'New York',\n       'Leyda Valley', 'Piedmont', 'Stellenbosch',\n       'Simonsberg-Stellenbosch', 'Walker Bay', 'Alentejano',\n       'Central Spain', 'Southwest France', 'Aconcagua Valley',\n       'Loncomilla Valley', 'Marlborough', 'Northeastern Italy',\n       'Casablanca Valley', 'Veneto', 'Western Cape', 'Judean Hills',\n       'Alentejo', 'Coastal Region', 'Rh\\xc3\\xb4ne Valley', 'Galilee',\n       'Beira Atlantico', 'Tokaj', 'Leithaberg', 'Santorini', 'Kremstal',\n       'Catalonia', 'Recas', \"Hawke's Bay\", 'Curic\\xc3\\xb3 Valley',\n       'Limar\\xc3\\xad Valley', 'Colchagua Costa', 'Languedoc-Roussillon',\n       'Provence', 'Victoria', 'Rheingau', 'Tokaji', 'Naoussa',\n       'Valle de Guadalupe', 'Central Valley', 'Lontu\\xc3\\xa9 Valley',\n       'Italy Other', 'Weinviertel', 'Thermenregion',\n       'Nieder\\xc3\\xb6sterreich', 'Wagram', 'Loire Valley', 'Lombardy',\n       'Ontario', '\\xc3\\x96sterreichischer Sekt', 'Kamptal', 'Steiermark',\n       'S\\xc3\\xbcdsteiermark', 'Crete', 'Vinho Verde', 'Idaho',\n       'Western Australia', 'Levante', 'Martinborough', 'Central Otago',\n       'Lisboa', 'Texas', 'Pen\\xc3\\xadnsula de Set\\xc3\\xbabal',\n       'Australia Other', 'Tasmania', 'Franken', 'Ahr', 'Nahe', nan,\n       'Dealu Mare', 'Port', 'Darling', 'Chile',\n       'S\\xc3\\xbcdoststeiermark', 'Corinth', 'Halkidiki', 'Thrace',\n       'Pfalz', 'Robertson', 'Dan', 'Northwestern Italy', 'Andalucia',\n       'Awatere Valley', 'Wiener Gemischter Satz', 'Wachau',\n       'Pennsylvania', 'Swartland', 'D\\xc3\\xa3o', 'Wagram-Donauland',\n       'Rio Claro', 'Vill\\xc3\\xa1ny', 'Cachapoal Valley', 'Jidvei',\n       'America', 'Traisental', 'Bairrada', 'Negev Hills', 'Ribatejano',\n       'Duriense', 'New Jersey', 'Beiras', 'Spanish Islands',\n       'Upper Galilee', 'Vinho Espumante', 'Epanomi', 'Nemea',\n       'Peloponnese', 'Aconcagua Costa', 'Moravia', 'Slovenia',\n       'Terras do D\\xc3\\xa3o', 'Beira Interior', 'Panciu',\n       'B\\xc3\\xado B\\xc3\\xado Valley', 'Romania', 'Portuguese Table Wine',\n       'Minho', 'Missouri', 'New Mexico', 'Nevada', 'Bucelas', 'Peumo',\n       'San Antonio', 'Carnuntum', 'Estremadura', 'Canterbury',\n       'Spain Other', 'Drama', 'Ella Valley', 'Moselle Luxembourgeoise',\n       'W\\xc3\\xbcrttemberg', 'Baden', 'Pangeon', 'Elqui Valley',\n       'Wairau Valley', 'Istria', 'Peljesac', 'Kakheti', 'Canelones',\n       'England', 'Marchigue', 'Paarl', 'Durbanville',\n       'Weinland \\xc3\\x96sterreich', 'Mantinia', 'Chalkidiki', 'Lebanon',\n       'Setubal', 'Mosel-Saar-Ruwer', 'Colorado', 'Pocerina',\n       'British Columbia', 'Puente Alto', 'Kumeu',\n       'Tr\\xc3\\xa1s-os-Montes', 'Shomron', 'Rapsani', 'Vienna',\n       'New South Wales', 'Nelson', 'Waipara Valley', 'Constantia',\n       'Arizona', 'Pinto Bandeira', 'Primorska', 'Moldova', 'Uruguay',\n       'Zenata', 'South Africa', 'Massachusetts', 'Ohio', 'Ica',\n       'San Vicente', 'Nashik', 'Franschhoek', 'South Island',\n       'Atlantida', 'Thracian Valley', 'Tarnave', 'Vipavska Dolina',\n       'Bekaa Valley', 'Elgin', 'Itata Valley', 'Table wine', 'Samson',\n       'Madeira', 'Cyprus', 'Pageon', 'Vinho Espumante de Qualidade',\n       'Wellington', 'Danube River Plains', 'Gisborne', 'Obidos',\n       'Wairarapa', 'Armenia', 'Santa Cruz', 'Kor\\xc4\\x8dula',\n       'Viile Timisului', 'Illinois', 'Aegean', 'Simonsberg-Paarl',\n       'Juanico', 'Black Sea Coastal', 'Santa Catarina', 'Overberg',\n       'Atalanti Valley', 'Sebes', 'Moscatel de Set\\xc3\\xbabal',\n       'Macedonia', 'Ribatejo', 'Germany', 'Palmela', 'Galil', 'Kras',\n       'Croatia', 'Waipara', 'Olifants River', 'Montevideo', 'Campanha',\n       'Israel', 'Neusiedlersee', 'Hungary', 'Lolol Valley',\n       'Cauquenes Valley', 'Groenekloof', 'Alenquer', 'Goriska Brda',\n       'Murfatlar', 'Moscatel do Douro', 'Washington-Oregon',\n       'New Zealand', 'Serra Ga\\xc3\\xbacha', 'San Jose',\n       'Vale dos Vinhedos', 'Mittelburgenland', 'Lutzville Valley',\n       'North Carolina', 'Apalta', 'Malleco', 'Guerrouane', 'Valais',\n       'Choapa Valley', 'Georgia', 'Ankara', 'Samos', 'Mittelrhein',\n       'Eisenberg', 'Sagrada Familia', 'Austria', 'Mostar', 'Iowa',\n       'Tulbagh', 'Cederberg', 'Hemel en Aarde', 'Ceres Plateau',\n       'Bot River', 'Patras', 'Korinthia', 'Greece', 'San Clemente',\n       'Podunavlje', 'Florina', 'Buin', 'Haut-Jude\\xc3\\xa9', 'Ukraine',\n       'Terras do Sado', 'Maipo Valley-Colchagua Valley', 'Brazil',\n       'Breedekloof', 'Leyda Valley-Maipo Valley', 'Vermont',\n       'Switzerland', 'Waitaki Valley', 'Eger', 'Golan Heights',\n       'Fru\\xc5\\xa1ka Gora', 'Philadelphia', 'Muzla', 'M\\xc3\\xa1tra',\n       'Pirque', 'Negev', 'Pitsilia Mountains', 'East Coast',\n       'Mavrodaphne of Patras', 'Attica', 'Progreso',\n       'Elaz\\xc4\\xb1\\xc4\\x9f-Diyarbakir', 'Jonkershoek Valley', 'Tikves',\n       'Vale Trentino', 'Turkey', 'Waiheke Island', 'Molina',\n       'Serra do Sudeste', 'Dalmatian Coast', 'Eilandia',\n       'Dealurile Munteniei', 'Thraki', 'Curic\\xc3\\xb3 and Maipo Valleys',\n       '\\xc5\\xa0tajerska', 'Middle and South Dalmatia', 'Kentucky',\n       '\\xc5\\xbdupa', 'Pafos', 'Monemvasia', 'Szeksz\\xc3\\xa1rd',\n       'Elaz\\xc4\\xb1\\xc4\\x9f', 'Cappadocia', 'Kutjevo', 'Ismarikos',\n       'Connecticut', 'Sithonia', 'Curic\\xc3\\xb3 and Leyda Valleys',\n       'Agioritikos', 'Casablanca-Curic\\xc3\\xb3 Valley',\n       'Piekenierskloof', 'Elim', 'Malgas', 'Beotia', 'Algarve',\n       'Retsina', 'Amindeo', 'Coelemu', 'Cape South Coast', 'Sopron',\n       'Bulgaria', 'North Dalmatia', 'Northern Cape', 'Vinho da Mesa',\n       'Hvar', 'Cephalonia', 'Lemesos', 'Cahul', 'Cyclades',\n       'Breede River Valley', 'Ticino', 'Vlootenburg', 'Brda',\n       'Dinga\\xc4\\x8d', 'Morocco', 'Achaia', 'Polkadraai Hills',\n       'Rhode Island', 'Amyndeon', 'V\\xc3\\xa2nju Mare',\n       'Hrvatsko Primorje', 'Central Greece', 'Dolenjska',\n       '\\xc3\\x96sterreichischer Perlwein', 'Requinoa',\n       'Mavrodaphne de Cephalonie', 'Goumenissa', 'Portugal', 'Messinia',\n       'Lakonia', 'Markopoulo', 'Vinho Licoroso', 'Paardeberg',\n       'San Antonio de las Minas Valley', 'Krania Olympus', 'Corinthia',\n       'Slovenska Istra', 'Commandaria', 'Gladstone', 'Jerusalem Hills',\n       'Mount Athos', 'Colares', 'Helderberg',\n       'Casablanca & Leyda Valleys', 'Dealurile Hu\\xc8\\x99ilor',\n       'Urla-Thrace', 'S\\xc3\\xbcdburgenland', 'Cape Peninsula',\n       'Codru Region', 'Sterea Ellada', 'Muscat of Patras', 'Imathia',\n       'Alenteo', 'Canada Other', 'Letrinon', 'Muscat of Kefallonian',\n       'Thessalikos', 'Hawaii', 'China', 'Limnos', 'Egypt', 'Viile Timis',\n       'Devon Valley', 'Krk', 'Arcadia', 'Cape Agulhas', 'Kathikas',\n       'Vin de Pays de Velvendo', 'Landwein Rhein', 'Lesbos',\n       'T\\xc3\\xa1vora-Varosa', 'Neuch\\xc3\\xa2tel'], dtype=object)"
      ]
     },
     "execution_count": 298,
     "metadata": {},
     "output_type": "execute_result"
    }
   ],
   "source": [
    "df.province.unique()\n"
   ]
  },
  {
   "cell_type": "code",
   "execution_count": 378,
   "metadata": {},
   "outputs": [],
   "source": [
    "ref_dict = {}\n",
    "df['province_id'] = str('')\n",
    "for i, x in enumerate(df.province.unique()):\n",
    "    ref_dict.update({x: i})"
   ]
  },
  {
   "cell_type": "code",
   "execution_count": 379,
   "metadata": {},
   "outputs": [],
   "source": [
    "# df['province'].dropna(inplace=True)\n",
    "df['province'].replace(to_replace=ref_dict,inplace=True,)"
   ]
  },
  {
   "cell_type": "code",
   "execution_count": 380,
   "metadata": {},
   "outputs": [
    {
     "data": {
      "text/plain": [
       "0          0\n1          1\n2          2\n3          3\n4          2\n5          4\n6          0\n7          5\n8          6\n9          5\n10         7\n11         5\n12         7\n13         0\n14         7\n15         8\n16         9\n17        10\n18         4\n19        11\n20        11\n21         2\n22         0\n23         7\n24         0\n25         7\n26         0\n27         0\n28         0\n29         7\n          ..\n129941     7\n129942     7\n129943     0\n129944    49\n129945     7\n129946     8\n129947     0\n129948     9\n129949     7\n129950     7\n129951     5\n129952     7\n129953    57\n129954    40\n129955    40\n129956    57\n129957     4\n129958    57\n129959     5\n129960     1\n129961     0\n129962     0\n129963    49\n129964     5\n129965     5\n129966     8\n129967     2\n129968     5\n129969     5\n129970     5\nName: province, Length: 129971, dtype: int64"
      ]
     },
     "execution_count": 380,
     "metadata": {},
     "output_type": "execute_result"
    }
   ],
   "source": [
    "df.province"
   ]
  },
  {
   "cell_type": "code",
   "execution_count": null,
   "metadata": {},
   "outputs": [
    {
     "ename": "IOError",
     "evalue": "[Errno 2] No such file or directory: 'Users/matt/Desktop/province_id.csv'",
     "traceback": [
      "\u001b[0;31m\u001b[0m",
      "\u001b[0;31mIOError\u001b[0mTraceback (most recent call last)",
      "\u001b[0;32m<ipython-input-381-e50872da2eb6>\u001b[0m in \u001b[0;36m<module>\u001b[0;34m()\u001b[0m\n\u001b[0;32m----> 1\u001b[0;31m \u001b[0mdf\u001b[0m\u001b[0;34m[\u001b[0m\u001b[0;34m'province'\u001b[0m\u001b[0;34m]\u001b[0m\u001b[0;34m.\u001b[0m\u001b[0mto_csv\u001b[0m\u001b[0;34m(\u001b[0m\u001b[0;34m'Users/matt/Desktop/province_id.csv'\u001b[0m\u001b[0;34m)\u001b[0m\u001b[0;34m\u001b[0m\u001b[0m\n\u001b[0m",
      "\u001b[0;32m/Users/matt/Library/Python/2.7/lib/python/site-packages/pandas/core/series.pyc\u001b[0m in \u001b[0;36mto_csv\u001b[0;34m(self, path, index, sep, na_rep, float_format, header, index_label, mode, encoding, compression, date_format, decimal)\u001b[0m\n\u001b[1;32m   3779\u001b[0m                            \u001b[0mindex_label\u001b[0m\u001b[0;34m=\u001b[0m\u001b[0mindex_label\u001b[0m\u001b[0;34m,\u001b[0m \u001b[0mmode\u001b[0m\u001b[0;34m=\u001b[0m\u001b[0mmode\u001b[0m\u001b[0;34m,\u001b[0m\u001b[0;34m\u001b[0m\u001b[0m\n\u001b[1;32m   3780\u001b[0m                            \u001b[0mencoding\u001b[0m\u001b[0;34m=\u001b[0m\u001b[0mencoding\u001b[0m\u001b[0;34m,\u001b[0m \u001b[0mcompression\u001b[0m\u001b[0;34m=\u001b[0m\u001b[0mcompression\u001b[0m\u001b[0;34m,\u001b[0m\u001b[0;34m\u001b[0m\u001b[0m\n\u001b[0;32m-> 3781\u001b[0;31m                            date_format=date_format, decimal=decimal)\n\u001b[0m\u001b[1;32m   3782\u001b[0m         \u001b[0;32mif\u001b[0m \u001b[0mpath\u001b[0m \u001b[0;32mis\u001b[0m \u001b[0mNone\u001b[0m\u001b[0;34m:\u001b[0m\u001b[0;34m\u001b[0m\u001b[0m\n\u001b[1;32m   3783\u001b[0m             \u001b[0;32mreturn\u001b[0m \u001b[0mresult\u001b[0m\u001b[0;34m\u001b[0m\u001b[0m\n",
      "\u001b[0;32m/Users/matt/Library/Python/2.7/lib/python/site-packages/pandas/core/frame.pyc\u001b[0m in \u001b[0;36mto_csv\u001b[0;34m(self, path_or_buf, sep, na_rep, float_format, columns, header, index, index_label, mode, encoding, compression, quoting, quotechar, line_terminator, chunksize, tupleize_cols, date_format, doublequote, escapechar, decimal)\u001b[0m\n\u001b[1;32m   1743\u001b[0m                                  \u001b[0mdoublequote\u001b[0m\u001b[0;34m=\u001b[0m\u001b[0mdoublequote\u001b[0m\u001b[0;34m,\u001b[0m\u001b[0;34m\u001b[0m\u001b[0m\n\u001b[1;32m   1744\u001b[0m                                  escapechar=escapechar, decimal=decimal)\n\u001b[0;32m-> 1745\u001b[0;31m         \u001b[0mformatter\u001b[0m\u001b[0;34m.\u001b[0m\u001b[0msave\u001b[0m\u001b[0;34m(\u001b[0m\u001b[0;34m)\u001b[0m\u001b[0;34m\u001b[0m\u001b[0m\n\u001b[0m\u001b[1;32m   1746\u001b[0m \u001b[0;34m\u001b[0m\u001b[0m\n\u001b[1;32m   1747\u001b[0m         \u001b[0;32mif\u001b[0m \u001b[0mpath_or_buf\u001b[0m \u001b[0;32mis\u001b[0m \u001b[0mNone\u001b[0m\u001b[0;34m:\u001b[0m\u001b[0;34m\u001b[0m\u001b[0m\n",
      "\u001b[0;32m/Users/matt/Library/Python/2.7/lib/python/site-packages/pandas/io/formats/csvs.pyc\u001b[0m in \u001b[0;36msave\u001b[0;34m(self)\u001b[0m\n\u001b[1;32m    154\u001b[0m             f, handles = _get_handle(self.path_or_buf, self.mode,\n\u001b[1;32m    155\u001b[0m                                      \u001b[0mencoding\u001b[0m\u001b[0;34m=\u001b[0m\u001b[0mencoding\u001b[0m\u001b[0;34m,\u001b[0m\u001b[0;34m\u001b[0m\u001b[0m\n\u001b[0;32m--> 156\u001b[0;31m                                      compression=self.compression)\n\u001b[0m\u001b[1;32m    157\u001b[0m             \u001b[0mclose\u001b[0m \u001b[0;34m=\u001b[0m \u001b[0mTrue\u001b[0m\u001b[0;34m\u001b[0m\u001b[0m\n\u001b[1;32m    158\u001b[0m \u001b[0;34m\u001b[0m\u001b[0m\n",
      "\u001b[0;32m/Users/matt/Library/Python/2.7/lib/python/site-packages/pandas/io/common.pyc\u001b[0m in \u001b[0;36m_get_handle\u001b[0;34m(path_or_buf, mode, encoding, compression, memory_map, is_text)\u001b[0m\n\u001b[1;32m    395\u001b[0m         \u001b[0;32mif\u001b[0m \u001b[0mcompat\u001b[0m\u001b[0;34m.\u001b[0m\u001b[0mPY2\u001b[0m\u001b[0;34m:\u001b[0m\u001b[0;34m\u001b[0m\u001b[0m\n\u001b[1;32m    396\u001b[0m             \u001b[0;31m# Python 2\u001b[0m\u001b[0;34m\u001b[0m\u001b[0;34m\u001b[0m\u001b[0m\n\u001b[0;32m--> 397\u001b[0;31m             \u001b[0mf\u001b[0m \u001b[0;34m=\u001b[0m \u001b[0mopen\u001b[0m\u001b[0;34m(\u001b[0m\u001b[0mpath_or_buf\u001b[0m\u001b[0;34m,\u001b[0m \u001b[0mmode\u001b[0m\u001b[0;34m)\u001b[0m\u001b[0;34m\u001b[0m\u001b[0m\n\u001b[0m\u001b[1;32m    398\u001b[0m         \u001b[0;32melif\u001b[0m \u001b[0mencoding\u001b[0m\u001b[0;34m:\u001b[0m\u001b[0;34m\u001b[0m\u001b[0m\n\u001b[1;32m    399\u001b[0m             \u001b[0;31m# Python 3 and encoding\u001b[0m\u001b[0;34m\u001b[0m\u001b[0;34m\u001b[0m\u001b[0m\n",
      "\u001b[0;31mIOError\u001b[0m: [Errno 2] No such file or directory: 'Users/matt/Desktop/province_id.csv'"
     ],
     "output_type": "error"
    }
   ],
   "source": [
    "df['province'].to_csv('/Users/matt/Desktop/province_id.csv')"
   ]
  },
  {
   "cell_type": "code",
   "execution_count": null,
   "metadata": {},
   "outputs": [],
   "source": []
  }
 ],
 "metadata": {
  "kernelspec": {
   "display_name": "Python 2",
   "language": "python",
   "name": "python2"
  },
  "language_info": {
   "codemirror_mode": {
    "name": "ipython",
    "version": 2
   },
   "file_extension": ".py",
   "mimetype": "text/x-python",
   "name": "python",
   "nbconvert_exporter": "python",
   "pygments_lexer": "ipython2",
   "version": "2.7.6"
  }
 },
 "nbformat": 4,
 "nbformat_minor": 0
}
