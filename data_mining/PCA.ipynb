{
 "cells": [
  {
   "cell_type": "code",
   "execution_count": 1,
   "metadata": {
    "collapsed": true
   },
   "outputs": [
    {
     "data": {
      "text/html": [
       "<div>\n",
       "<style scoped>\n",
       "    .dataframe tbody tr th:only-of-type {\n",
       "        vertical-align: middle;\n",
       "    }\n",
       "\n",
       "    .dataframe tbody tr th {\n",
       "        vertical-align: top;\n",
       "    }\n",
       "\n",
       "    .dataframe thead th {\n",
       "        text-align: right;\n",
       "    }\n",
       "</style>\n",
       "<table border=\"1\" class=\"dataframe\">\n",
       "  <thead>\n",
       "    <tr style=\"text-align: right;\">\n",
       "      <th></th>\n",
       "      <th>sepal_len</th>\n",
       "      <th>sepal_wid</th>\n",
       "      <th>petal_len</th>\n",
       "      <th>petal_wid</th>\n",
       "      <th>class</th>\n",
       "    </tr>\n",
       "  </thead>\n",
       "  <tbody>\n",
       "    <tr>\n",
       "      <th>145</th>\n",
       "      <td>6.7</td>\n",
       "      <td>3.0</td>\n",
       "      <td>5.2</td>\n",
       "      <td>2.3</td>\n",
       "      <td>Iris-virginica</td>\n",
       "    </tr>\n",
       "    <tr>\n",
       "      <th>146</th>\n",
       "      <td>6.3</td>\n",
       "      <td>2.5</td>\n",
       "      <td>5.0</td>\n",
       "      <td>1.9</td>\n",
       "      <td>Iris-virginica</td>\n",
       "    </tr>\n",
       "    <tr>\n",
       "      <th>147</th>\n",
       "      <td>6.5</td>\n",
       "      <td>3.0</td>\n",
       "      <td>5.2</td>\n",
       "      <td>2.0</td>\n",
       "      <td>Iris-virginica</td>\n",
       "    </tr>\n",
       "    <tr>\n",
       "      <th>148</th>\n",
       "      <td>6.2</td>\n",
       "      <td>3.4</td>\n",
       "      <td>5.4</td>\n",
       "      <td>2.3</td>\n",
       "      <td>Iris-virginica</td>\n",
       "    </tr>\n",
       "    <tr>\n",
       "      <th>149</th>\n",
       "      <td>5.9</td>\n",
       "      <td>3.0</td>\n",
       "      <td>5.1</td>\n",
       "      <td>1.8</td>\n",
       "      <td>Iris-virginica</td>\n",
       "    </tr>\n",
       "  </tbody>\n",
       "</table>\n",
       "</div>"
      ],
      "text/plain": [
       "<div>\n",
       "<style scoped>\n",
       "    .dataframe tbody tr th:only-of-type {\n",
       "        vertical-align: middle;\n",
       "    }\n",
       "\n",
       "    .dataframe tbody tr th {\n",
       "        vertical-align: top;\n",
       "    }\n",
       "\n",
       "    .dataframe thead th {\n",
       "        text-align: right;\n",
       "    }\n",
       "</style>\n",
       "<table border=\"1\" class=\"dataframe\">\n",
       "  <thead>\n",
       "    <tr style=\"text-align: right;\">\n",
       "      <th></th>\n",
       "      <th>sepal_len</th>\n",
       "      <th>sepal_wid</th>\n",
       "      <th>petal_len</th>\n",
       "      <th>petal_wid</th>\n",
       "      <th>class</th>\n",
       "    </tr>\n",
       "  </thead>\n",
       "  <tbody>\n",
       "    <tr>\n",
       "      <th>145</th>\n",
       "      <td>6.7</td>\n",
       "      <td>3.0</td>\n",
       "      <td>5.2</td>\n",
       "      <td>2.3</td>\n",
       "      <td>Iris-virginica</td>\n",
       "    </tr>\n",
       "    <tr>\n",
       "      <th>146</th>\n",
       "      <td>6.3</td>\n",
       "      <td>2.5</td>\n",
       "      <td>5.0</td>\n",
       "      <td>1.9</td>\n",
       "      <td>Iris-virginica</td>\n",
       "    </tr>\n",
       "    <tr>\n",
       "      <th>147</th>\n",
       "      <td>6.5</td>\n",
       "      <td>3.0</td>\n",
       "      <td>5.2</td>\n",
       "      <td>2.0</td>\n",
       "      <td>Iris-virginica</td>\n",
       "    </tr>\n",
       "    <tr>\n",
       "      <th>148</th>\n",
       "      <td>6.2</td>\n",
       "      <td>3.4</td>\n",
       "      <td>5.4</td>\n",
       "      <td>2.3</td>\n",
       "      <td>Iris-virginica</td>\n",
       "    </tr>\n",
       "    <tr>\n",
       "      <th>149</th>\n",
       "      <td>5.9</td>\n",
       "      <td>3.0</td>\n",
       "      <td>5.1</td>\n",
       "      <td>1.8</td>\n",
       "      <td>Iris-virginica</td>\n",
       "    </tr>\n",
       "  </tbody>\n",
       "</table>\n",
       "</div>"
      ]
     },
     "execution_count": 1,
     "metadata": {},
     "output_type": "execute_result"
    }
   ],
   "source": [
    "import pandas as pd\n",
    "\n",
    "df = pd.read_csv(\n",
    "    filepath_or_buffer='https://archive.ics.uci.edu/ml/machine-learning-databases/iris/iris.data', \n",
    "    header=None, \n",
    "    sep=',')\n",
    "\n",
    "df.columns=['sepal_len', 'sepal_wid', 'petal_len', 'petal_wid', 'class']\n",
    "df.dropna(how=\"all\", inplace=True) # drops the empty line at file-end\n",
    "\n",
    "df.tail()"
   ]
  },
  {
   "cell_type": "code",
   "execution_count": 2,
   "metadata": {},
   "outputs": [
    {
     "name": "stderr",
     "output_type": "stream",
     "text": [
      "/Users/mattsmacbook/Library/Python/2.7/lib/python/site-packages/ipykernel_launcher.py:3: DeprecationWarning: \n.ix is deprecated. Please use\n.loc for label based indexing or\n.iloc for positional indexing\n\nSee the documentation here:\nhttp://pandas.pydata.org/pandas-docs/stable/indexing.html#ix-indexer-is-deprecated\n  This is separate from the ipykernel package so we can avoid doing imports until\n/Users/mattsmacbook/Library/Python/2.7/lib/python/site-packages/ipykernel_launcher.py:4: DeprecationWarning: \n.ix is deprecated. Please use\n.loc for label based indexing or\n.iloc for positional indexing\n\nSee the documentation here:\nhttp://pandas.pydata.org/pandas-docs/stable/indexing.html#ix-indexer-is-deprecated\n  after removing the cwd from sys.path.\n"
     ]
    }
   ],
   "source": [
    "# split data table into data X and class labels y\n",
    "\n",
    "X = df.ix[:,0:4].values\n",
    "y = df.ix[:,4].values"
   ]
  },
  {
   "cell_type": "code",
   "execution_count": 7,
   "metadata": {},
   "outputs": [],
   "source": [
    "import plotly.plotly as py\n",
    "from plotly.graph_objs import *\n",
    "import plotly.tools as tls"
   ]
  },
  {
   "cell_type": "code",
   "execution_count": 8,
   "metadata": {},
   "outputs": [
    {
     "data": {
      "text/html": [
       "<iframe id=\"igraph\" scrolling=\"no\" style=\"border:none;\" seamless=\"seamless\" src=\"https://plot.ly/~Mdipietro1990/8.embed\" height=\"525px\" width=\"100%\"></iframe>"
      ],
      "text/plain": [
       "<iframe id=\"igraph\" scrolling=\"no\" style=\"border:none;\" seamless=\"seamless\" src=\"https://plot.ly/~Mdipietro1990/8.embed\" height=\"525px\" width=\"100%\"></iframe>"
      ]
     },
     "execution_count": 8,
     "metadata": {},
     "output_type": "execute_result"
    }
   ],
   "source": [
    "traces = []\n",
    "\n",
    "legend = {0:False, 1:False, 2:False, 3:True}\n",
    "\n",
    "colors = {'Iris-setosa': 'rgb(31, 119, 180)', \n",
    "          'Iris-versicolor': 'rgb(255, 127, 14)', \n",
    "          'Iris-virginica': 'rgb(44, 160, 44)'}\n",
    "\n",
    "for col in range(4):\n",
    "    for key in colors:\n",
    "        traces.append(Histogram(x=X[y==key, col], \n",
    "                        opacity=0.75,\n",
    "                        xaxis='x%s' %(col+1),\n",
    "                        marker=Marker(color=colors[key]),\n",
    "                        name=key,\n",
    "                        showlegend=legend[col]))\n",
    "\n",
    "data = Data(traces)\n",
    "\n",
    "layout = Layout(barmode='overlay',\n",
    "                xaxis=XAxis(domain=[0, 0.25], title='sepal length (cm)'),\n",
    "                xaxis2=XAxis(domain=[0.3, 0.5], title='sepal width (cm)'),\n",
    "                xaxis3=XAxis(domain=[0.55, 0.75], title='petal length (cm)'),\n",
    "                xaxis4=XAxis(domain=[0.8, 1], title='petal width (cm)'),\n",
    "                yaxis=YAxis(title='count'),\n",
    "                title='Distribution of the different Iris flower features')\n",
    "\n",
    "fig = Figure(data=data, layout=layout)\n",
    "py.iplot(fig)"
   ]
  },
  {
   "cell_type": "code",
   "execution_count": 10,
   "metadata": {},
   "outputs": [],
   "source": [
    "from sklearn.preprocessing import StandardScaler\n",
    "X_std = StandardScaler().fit_transform(X)"
   ]
  },
  {
   "cell_type": "markdown",
   "metadata": {},
   "source": []
  },
  {
   "cell_type": "code",
   "execution_count": 11,
   "metadata": {},
   "outputs": [
    {
     "name": "stdout",
     "output_type": "stream",
     "text": [
      "Covariance matrix \n[[ 1.00671141 -0.11010327  0.87760486  0.82344326]\n [-0.11010327  1.00671141 -0.42333835 -0.358937  ]\n [ 0.87760486 -0.42333835  1.00671141  0.96921855]\n [ 0.82344326 -0.358937    0.96921855  1.00671141]]\n"
     ]
    }
   ],
   "source": [
    "import numpy as np\n",
    "mean_vec = np.mean(X_std, axis=0)\n",
    "cov_mat = (X_std - mean_vec).T.dot((X_std - mean_vec)) / (X_std.shape[0]-1)\n",
    "print('Covariance matrix \\n%s' %cov_mat)"
   ]
  },
  {
   "cell_type": "code",
   "execution_count": 12,
   "metadata": {},
   "outputs": [
    {
     "name": "stdout",
     "output_type": "stream",
     "text": [
      "NumPy covariance matrix: \n[[ 1.00671141 -0.11010327  0.87760486  0.82344326]\n [-0.11010327  1.00671141 -0.42333835 -0.358937  ]\n [ 0.87760486 -0.42333835  1.00671141  0.96921855]\n [ 0.82344326 -0.358937    0.96921855  1.00671141]]\n"
     ]
    }
   ],
   "source": [
    "print('NumPy covariance matrix: \\n%s' %np.cov(X_std.T))\n"
   ]
  },
  {
   "cell_type": "markdown",
   "metadata": {},
   "source": []
  },
  {
   "cell_type": "code",
   "execution_count": 13,
   "metadata": {},
   "outputs": [
    {
     "name": "stdout",
     "output_type": "stream",
     "text": [
      "Eigenvectors \n[[ 0.52237162 -0.37231836 -0.72101681  0.26199559]\n [-0.26335492 -0.92555649  0.24203288 -0.12413481]\n [ 0.58125401 -0.02109478  0.14089226 -0.80115427]\n [ 0.56561105 -0.06541577  0.6338014   0.52354627]]\n\nEigenvalues \n[2.93035378 0.92740362 0.14834223 0.02074601]\n"
     ]
    }
   ],
   "source": [
    "cov_mat = np.cov(X_std.T)\n",
    "\n",
    "eig_vals, eig_vecs = np.linalg.eig(cov_mat)\n",
    "\n",
    "print('Eigenvectors \\n%s' %eig_vecs)\n",
    "print('\\nEigenvalues \\n%s' %eig_vals)"
   ]
  },
  {
   "cell_type": "markdown",
   "metadata": {},
   "source": []
  },
  {
   "cell_type": "markdown",
   "metadata": {},
   "source": [
    "Correlation Matrix"
   ]
  },
  {
   "cell_type": "code",
   "execution_count": 14,
   "metadata": {},
   "outputs": [
    {
     "name": "stdout",
     "output_type": "stream",
     "text": [
      "Eigenvectors \n[[ 0.52237162 -0.37231836 -0.72101681  0.26199559]\n [-0.26335492 -0.92555649  0.24203288 -0.12413481]\n [ 0.58125401 -0.02109478  0.14089226 -0.80115427]\n [ 0.56561105 -0.06541577  0.6338014   0.52354627]]\n\nEigenvalues \n[2.91081808 0.92122093 0.14735328 0.02060771]\n"
     ]
    }
   ],
   "source": [
    "cor_mat1 = np.corrcoef(X_std.T)\n",
    "\n",
    "eig_vals, eig_vecs = np.linalg.eig(cor_mat1)\n",
    "\n",
    "print('Eigenvectors \\n%s' %eig_vecs)\n",
    "print('\\nEigenvalues \\n%s' %eig_vals)"
   ]
  },
  {
   "cell_type": "code",
   "execution_count": 15,
   "metadata": {},
   "outputs": [
    {
     "name": "stdout",
     "output_type": "stream",
     "text": [
      "Eigenvectors \n[[ 0.52237162 -0.37231836 -0.72101681  0.26199559]\n [-0.26335492 -0.92555649  0.24203288 -0.12413481]\n [ 0.58125401 -0.02109478  0.14089226 -0.80115427]\n [ 0.56561105 -0.06541577  0.6338014   0.52354627]]\n\nEigenvalues \n[2.91081808 0.92122093 0.14735328 0.02060771]\n"
     ]
    }
   ],
   "source": [
    "cor_mat2 = np.corrcoef(X.T)\n",
    "\n",
    "eig_vals, eig_vecs = np.linalg.eig(cor_mat2)\n",
    "\n",
    "print('Eigenvectors \\n%s' %eig_vecs)\n",
    "print('\\nEigenvalues \\n%s' %eig_vals)"
   ]
  },
  {
   "cell_type": "markdown",
   "metadata": {},
   "source": [
    "Singular vector decomposition"
   ]
  },
  {
   "cell_type": "code",
   "execution_count": 16,
   "metadata": {},
   "outputs": [],
   "source": [
    "u,s,v = np.linalg.svd(X_std.T)"
   ]
  },
  {
   "cell_type": "code",
   "execution_count": 17,
   "metadata": {},
   "outputs": [
    {
     "data": {
      "text/plain": [
       "array([[-0.52237162, -0.37231836,  0.72101681,  0.26199559],\n       [ 0.26335492, -0.92555649, -0.24203288, -0.12413481],\n       [-0.58125401, -0.02109478, -0.14089226, -0.80115427],\n       [-0.56561105, -0.06541577, -0.6338014 ,  0.52354627]])"
      ]
     },
     "execution_count": 17,
     "metadata": {},
     "output_type": "execute_result"
    }
   ],
   "source": [
    "u"
   ]
  },
  {
   "cell_type": "code",
   "execution_count": 18,
   "metadata": {},
   "outputs": [],
   "source": [
    "for ev in eig_vecs:\n",
    "    np.testing.assert_array_almost_equal(1.0, np.linalg.norm(ev))\n"
   ]
  },
  {
   "cell_type": "code",
   "execution_count": 19,
   "metadata": {},
   "outputs": [
    {
     "name": "stdout",
     "output_type": "stream",
     "text": [
      "Eigenvalues in descending order:\n2.9108180837520528\n0.9212209307072254\n0.1473532783050958\n0.020607707235624842\n"
     ]
    }
   ],
   "source": [
    "eig_pairs = [(np.abs(eig_vals[i]), eig_vecs[:,i]) for i in range(len(eig_vals))]\n",
    "\n",
    "# Sort the (eigenvalue, eigenvector) tuples from high to low\n",
    "eig_pairs.sort()\n",
    "eig_pairs.reverse()\n",
    "\n",
    "# Visually confirm that the list is correctly sorted by decreasing eigenvalues\n",
    "print('Eigenvalues in descending order:')\n",
    "for i in eig_pairs:\n",
    "    print(i[0])"
   ]
  },
  {
   "cell_type": "code",
   "execution_count": 21,
   "metadata": {},
   "outputs": [
    {
     "data": {
      "text/html": [
       "<iframe id=\"igraph\" scrolling=\"no\" style=\"border:none;\" seamless=\"seamless\" src=\"https://plot.ly/~Mdipietro1990/12.embed\" height=\"525px\" width=\"100%\"></iframe>"
      ],
      "text/plain": [
       "<iframe id=\"igraph\" scrolling=\"no\" style=\"border:none;\" seamless=\"seamless\" src=\"https://plot.ly/~Mdipietro1990/12.embed\" height=\"525px\" width=\"100%\"></iframe>"
      ]
     },
     "execution_count": 21,
     "metadata": {},
     "output_type": "execute_result"
    }
   ],
   "source": [
    "tot = sum(eig_vals)\n",
    "var_exp = [(i / tot)*100 for i in sorted(eig_vals, reverse=True)]\n",
    "cum_var_exp = np.cumsum(var_exp)\n",
    "\n",
    "trace1 = Bar(\n",
    "        x=['PC %s' %i for i in range(1,5)],\n",
    "        y=var_exp,\n",
    "        showlegend=False)\n",
    "\n",
    "trace2 = Scatter(\n",
    "        x=['PC %s' %i for i in range(1,5)], \n",
    "        y=cum_var_exp,\n",
    "        name='cumulative explained variance')\n",
    "\n",
    "data = Data([trace1, trace2])\n",
    "\n",
    "layout=Layout(\n",
    "        yaxis=YAxis(title='Explained variance in percent'),\n",
    "        title='Explained variance by different principal components')\n",
    "\n",
    "fig = Figure(data=data, layout=layout)\n",
    "py.iplot(fig)"
   ]
  },
  {
   "cell_type": "code",
   "execution_count": 22,
   "metadata": {},
   "outputs": [
    {
     "name": "stdout",
     "output_type": "stream",
     "text": [
      "('Matrix W:\\n', array([[ 0.52237162, -0.37231836],\n       [-0.26335492, -0.92555649],\n       [ 0.58125401, -0.02109478],\n       [ 0.56561105, -0.06541577]]))\n"
     ]
    }
   ],
   "source": [
    "matrix_w = np.hstack((eig_pairs[0][1].reshape(4,1), \n",
    "                      eig_pairs[1][1].reshape(4,1)))\n",
    "\n",
    "print('Matrix W:\\n', matrix_w)"
   ]
  },
  {
   "cell_type": "code",
   "execution_count": 23,
   "metadata": {},
   "outputs": [],
   "source": [
    "Y = X_std.dot(matrix_w)"
   ]
  },
  {
   "cell_type": "code",
   "execution_count": 24,
   "metadata": {},
   "outputs": [
    {
     "data": {
      "text/plain": [
       "array([[-2.26454173e+00, -5.05703903e-01],\n       [-2.08642550e+00,  6.55404729e-01],\n       [-2.36795045e+00,  3.18477311e-01],\n       [-2.30419716e+00,  5.75367713e-01],\n       [-2.38877749e+00, -6.74767397e-01],\n       [-2.07053681e+00, -1.51854856e+00],\n       [-2.44571134e+00, -7.45626750e-02],\n       [-2.23384186e+00, -2.47613932e-01],\n       [-2.34195768e+00,  1.09514636e+00],\n       [-2.18867576e+00,  4.48629048e-01],\n       [-2.16348656e+00, -1.07059558e+00],\n       [-2.32737775e+00, -1.58587455e-01],\n       [-2.22408272e+00,  7.09118158e-01],\n       [-2.63971626e+00,  9.38281982e-01],\n       [-2.19229151e+00, -1.88997851e+00],\n       [-2.25146521e+00, -2.72237108e+00],\n       [-2.20275048e+00, -1.51375028e+00],\n       [-2.19017916e+00, -5.14304308e-01],\n       [-1.89407429e+00, -1.43111071e+00],\n       [-2.33994907e+00, -1.15803343e+00],\n       [-1.91455639e+00, -4.30465163e-01],\n       [-2.20464540e+00, -9.52457317e-01],\n       [-2.77416979e+00, -4.89517027e-01],\n       [-1.82041156e+00, -1.06750793e-01],\n       [-2.22821750e+00, -1.62186163e-01],\n       [-1.95702401e+00,  6.07892567e-01],\n       [-2.05206331e+00, -2.66014312e-01],\n       [-2.16819365e+00, -5.52016495e-01],\n       [-2.14030596e+00, -3.36640409e-01],\n       [-2.26879019e+00,  3.14878603e-01],\n       [-2.14455443e+00,  4.83942097e-01],\n       [-1.83193810e+00, -4.45266836e-01],\n       [-2.60820287e+00, -1.82847519e+00],\n       [-2.43795086e+00, -2.18539162e+00],\n       [-2.18867576e+00,  4.48629048e-01],\n       [-2.21111990e+00,  1.84337811e-01],\n       [-2.04441652e+00, -6.84956426e-01],\n       [-2.18867576e+00,  4.48629048e-01],\n       [-2.43595220e+00,  8.82169415e-01],\n       [-2.17054720e+00, -2.92726955e-01],\n       [-2.28652724e+00, -4.67991716e-01],\n       [-1.87170722e+00,  2.32769161e+00],\n       [-2.55783442e+00,  4.53816380e-01],\n       [-1.96427929e+00, -4.97391640e-01],\n       [-2.13337283e+00, -1.17143211e+00],\n       [-2.07535759e+00,  6.91917347e-01],\n       [-2.38125822e+00, -1.15063259e+00],\n       [-2.39819169e+00,  3.62390765e-01],\n       [-2.22678121e+00, -1.02548255e+00],\n       [-2.20595417e+00, -3.22378453e-02],\n       [ 1.10399365e+00, -8.63112446e-01],\n       [ 7.32481440e-01, -5.98635573e-01],\n       [ 1.24210951e+00, -6.14822450e-01],\n       [ 3.97307283e-01,  1.75816895e+00],\n       [ 1.07259395e+00,  2.11757903e-01],\n       [ 3.84458146e-01,  5.91062469e-01],\n       [ 7.48715076e-01, -7.78698611e-01],\n       [-4.97863388e-01,  1.84886877e+00],\n       [ 9.26222368e-01, -3.03308268e-02],\n       [ 4.96802558e-03,  1.02940111e+00],\n       [-1.24697461e-01,  2.65806268e+00],\n       [ 4.38730118e-01,  5.88812850e-02],\n       [ 5.51633981e-01,  1.77258156e+00],\n       [ 7.17165066e-01,  1.85434315e-01],\n       [-3.72583830e-02,  4.32795099e-01],\n       [ 8.75890536e-01, -5.09998151e-01],\n       [ 3.48006402e-01,  1.90621647e-01],\n       [ 1.53392545e-01,  7.90725456e-01],\n       [ 1.21530321e+00,  1.63335564e+00],\n       [ 1.56941176e-01,  1.30310327e+00],\n       [ 7.38256104e-01, -4.02470382e-01],\n       [ 4.72369682e-01,  4.16608222e-01],\n       [ 1.22798821e+00,  9.40914793e-01],\n       [ 6.29381045e-01,  4.16811643e-01],\n       [ 7.00472799e-01,  6.34939277e-02],\n       [ 8.73536987e-01, -2.50708611e-01],\n       [ 1.25422219e+00,  8.26200998e-02],\n       [ 1.35823985e+00, -3.28820266e-01],\n       [ 6.62126138e-01,  2.24346071e-01],\n       [-4.72815133e-02,  1.05721241e+00],\n       [ 1.21534209e-01,  1.56359238e+00],\n       [ 1.41182261e-02,  1.57339235e+00],\n       [ 2.36010837e-01,  7.75923784e-01],\n       [ 1.05669143e+00,  6.36901284e-01],\n       [ 2.21417088e-01,  2.80847693e-01],\n       [ 4.31783161e-01, -8.55136920e-01],\n       [ 1.04941336e+00, -5.22197265e-01],\n       [ 1.03587821e+00,  1.39246648e+00],\n       [ 6.70675999e-02,  2.12620735e-01],\n       [ 2.75425066e-01,  1.32981591e+00],\n       [ 2.72335066e-01,  1.11944152e+00],\n       [ 6.23170540e-01, -2.75426333e-02],\n       [ 3.30005364e-01,  9.88900732e-01],\n       [-3.73627623e-01,  2.01793227e+00],\n       [ 2.82944343e-01,  8.53950717e-01],\n       [ 8.90531103e-02,  1.74908548e-01],\n       [ 2.24356783e-01,  3.80484659e-01],\n       [ 5.73883486e-01,  1.53719974e-01],\n       [-4.57012873e-01,  1.53946451e+00],\n       [ 2.52244473e-01,  5.95860746e-01],\n       [ 1.84767259e+00, -8.71696662e-01],\n       [ 1.15318981e+00,  7.01326114e-01],\n       [ 2.20634950e+00, -5.54470105e-01],\n       [ 1.43868540e+00,  5.00105223e-02],\n       [ 1.86789070e+00, -2.91192802e-01],\n       [ 2.75419671e+00, -7.88432206e-01],\n       [ 3.58374475e-01,  1.56009458e+00],\n       [ 2.30300590e+00, -4.09516695e-01],\n       [ 2.00173530e+00,  7.23865359e-01],\n       [ 2.26755460e+00, -1.92144299e+00],\n       [ 1.36590943e+00, -6.93948040e-01],\n       [ 1.59906459e+00,  4.28248836e-01],\n       [ 1.88425185e+00, -4.14332758e-01],\n       [ 1.25308651e+00,  1.16739134e+00],\n       [ 1.46406152e+00,  4.44147569e-01],\n       [ 1.59180930e+00, -6.77035372e-01],\n       [ 1.47128019e+00, -2.53192472e-01],\n       [ 2.43737848e+00, -2.55675734e+00],\n       [ 3.30914118e+00,  2.36132010e-03],\n       [ 1.25398099e+00,  1.71758384e+00],\n       [ 2.04049626e+00, -9.07398765e-01],\n       [ 9.73915114e-01,  5.71174376e-01],\n       [ 2.89806444e+00, -3.97791359e-01],\n       [ 1.32919369e+00,  4.86760542e-01],\n       [ 1.70424071e+00, -1.01414842e+00],\n       [ 1.95772766e+00, -1.00333452e+00],\n       [ 1.17190451e+00,  3.18896617e-01],\n       [ 1.01978105e+00, -6.55429631e-02],\n       [ 1.78600886e+00,  1.93272800e-01],\n       [ 1.86477791e+00, -5.55381532e-01],\n       [ 2.43549739e+00, -2.46654468e-01],\n       [ 2.31608241e+00, -2.62618387e+00],\n       [ 1.86037143e+00,  1.84672394e-01],\n       [ 1.11127173e+00,  2.95986102e-01],\n       [ 1.19746916e+00,  8.17167742e-01],\n       [ 2.80094940e+00, -8.44748194e-01],\n       [ 1.58015525e+00, -1.07247450e+00],\n       [ 1.34704442e+00, -4.22255966e-01],\n       [ 9.23432978e-01, -1.92303705e-02],\n       [ 1.85355198e+00, -6.72422729e-01],\n       [ 2.01615720e+00, -6.10397038e-01],\n       [ 1.90311686e+00, -6.86024832e-01],\n       [ 1.15318981e+00,  7.01326114e-01],\n       [ 2.04330844e+00, -8.64684880e-01],\n       [ 2.00169097e+00, -1.04855005e+00],\n       [ 1.87052207e+00, -3.82821838e-01],\n       [ 1.55849189e+00,  9.05313601e-01],\n       [ 1.52084506e+00, -2.66794575e-01],\n       [ 1.37639119e+00, -1.01636193e+00],\n       [ 9.59298576e-01,  2.22839447e-02]])"
      ]
     },
     "execution_count": 24,
     "metadata": {},
     "output_type": "execute_result"
    }
   ],
   "source": [
    "Y"
   ]
  },
  {
   "cell_type": "code",
   "execution_count": 25,
   "metadata": {},
   "outputs": [
    {
     "name": "stderr",
     "output_type": "stream",
     "text": [
      "/Users/mattsmacbook/Library/Python/2.7/lib/python/site-packages/plotly/graph_objs/_deprecations.py:372: DeprecationWarning:\n\nplotly.graph_objs.Line is deprecated.\nPlease replace it with one of the following more specific types\n  - plotly.graph_objs.scatter.Line\n  - plotly.graph_objs.layout.shape.Line\n  - etc.\n\n\n/Users/mattsmacbook/Library/Python/2.7/lib/python/site-packages/plotly/graph_objs/_deprecations.py:477: DeprecationWarning:\n\nplotly.graph_objs.Scene is deprecated.\nPlease replace it with one of the following more specific types\n  - plotly.graph_objs.Scene\n\n\n"
     ]
    },
    {
     "data": {
      "text/html": [
       "<iframe id=\"igraph\" scrolling=\"no\" style=\"border:none;\" seamless=\"seamless\" src=\"https://plot.ly/~Mdipietro1990/14.embed\" height=\"525px\" width=\"100%\"></iframe>"
      ],
      "text/plain": [
       "<iframe id=\"igraph\" scrolling=\"no\" style=\"border:none;\" seamless=\"seamless\" src=\"https://plot.ly/~Mdipietro1990/14.embed\" height=\"525px\" width=\"100%\"></iframe>"
      ]
     },
     "execution_count": 25,
     "metadata": {},
     "output_type": "execute_result"
    }
   ],
   "source": [
    "traces = []\n",
    "\n",
    "for name in ('Iris-setosa', 'Iris-versicolor', 'Iris-virginica'):\n",
    "\n",
    "    trace = Scatter(\n",
    "        x=Y[y==name,0],\n",
    "        y=Y[y==name,1],\n",
    "        mode='markers',\n",
    "        name=name,\n",
    "        marker=Marker(\n",
    "            size=12,\n",
    "            line=Line(\n",
    "                color='rgba(217, 217, 217, 0.14)',\n",
    "                width=0.5),\n",
    "            opacity=0.8))\n",
    "    traces.append(trace)\n",
    "\n",
    "\n",
    "data = Data(traces)\n",
    "layout = Layout(showlegend=True,\n",
    "                scene=Scene(xaxis=XAxis(title='PC1'),\n",
    "                yaxis=YAxis(title='PC2'),))\n",
    "\n",
    "fig = Figure(data=data, layout=layout)\n",
    "py.iplot(fig)"
   ]
  },
  {
   "cell_type": "code",
   "execution_count": 28,
   "metadata": {},
   "outputs": [],
   "source": [
    "from sklearn.decomposition import PCA as sklearnPCA\n",
    "sklearn_pca = sklearnPCA(n_components=2)\n",
    "Y_sklearn = sklearn_pca.fit_transform(X_std)"
   ]
  },
  {
   "cell_type": "code",
   "execution_count": 27,
   "metadata": {},
   "outputs": [
    {
     "data": {
      "text/html": [
       "<iframe id=\"igraph\" scrolling=\"no\" style=\"border:none;\" seamless=\"seamless\" src=\"https://plot.ly/~Mdipietro1990/16.embed\" height=\"525px\" width=\"100%\"></iframe>"
      ],
      "text/plain": [
       "<iframe id=\"igraph\" scrolling=\"no\" style=\"border:none;\" seamless=\"seamless\" src=\"https://plot.ly/~Mdipietro1990/16.embed\" height=\"525px\" width=\"100%\"></iframe>"
      ]
     },
     "execution_count": 27,
     "metadata": {},
     "output_type": "execute_result"
    }
   ],
   "source": [
    "traces = []\n",
    "\n",
    "for name in ('Iris-setosa', 'Iris-versicolor', 'Iris-virginica'):\n",
    "\n",
    "    trace = Scatter(\n",
    "        x=Y_sklearn[y==name,0],\n",
    "        y=Y_sklearn[y==name,1],\n",
    "        mode='markers',\n",
    "        name=name,\n",
    "        marker=Marker(\n",
    "            size=12,\n",
    "            line=Line(\n",
    "                color='rgba(217, 217, 217, 0.14)',\n",
    "                width=0.5),\n",
    "            opacity=0.8))\n",
    "    traces.append(trace)\n",
    "\n",
    "\n",
    "data = Data(traces)\n",
    "layout = Layout(xaxis=XAxis(title='PC1', showline=False),\n",
    "                yaxis=YAxis(title='PC2', showline=False))\n",
    "fig = Figure(data=data, layout=layout)\n",
    "py.iplot(fig)\n"
   ]
  },
  {
   "cell_type": "code",
   "execution_count": null,
   "metadata": {},
   "outputs": [],
   "source": []
  }
 ],
 "metadata": {
  "kernelspec": {
   "display_name": "Python 2",
   "language": "python",
   "name": "python2"
  },
  "language_info": {
   "codemirror_mode": {
    "name": "ipython",
    "version": 2
   },
   "file_extension": ".py",
   "mimetype": "text/x-python",
   "name": "python",
   "nbconvert_exporter": "python",
   "pygments_lexer": "ipython2",
   "version": "2.7.6"
  }
 },
 "nbformat": 4,
 "nbformat_minor": 0
}
