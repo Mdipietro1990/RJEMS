{
  "nbformat": 4,
  "nbformat_minor": 0,
  "metadata": {
    "colab": {
      "name": "Homework: LeNet and VGG16 ",
      "provenance": [],
      "collapsed_sections": [],
      "include_colab_link": true
    },
    "kernelspec": {
      "name": "python3",
      "display_name": "Python 3"
    },
    "accelerator": "GPU"
  },
  "cells": [
    {
      "cell_type": "markdown",
      "metadata": {
        "id": "view-in-github",
        "colab_type": "text"
      },
      "source": [
        "<a href=\"https://colab.research.google.com/github/Mdipietro1990/masters-program/blob/master/Homework_LeNet_and_VGG16.ipynb\" target=\"_parent\"><img src=\"https://colab.research.google.com/assets/colab-badge.svg\" alt=\"Open In Colab\"/></a>"
      ]
    },
    {
      "cell_type": "code",
      "metadata": {
        "id": "BQ_2fQSyry2j",
        "colab_type": "code",
        "outputId": "783261cc-66e8-4794-ebd7-c53dfcbb50eb",
        "colab": {
          "base_uri": "https://localhost:8080/",
          "height": 125
        }
      },
      "source": [
        "# Loading in the data from my google drive\n",
        "from google.colab import drive\n",
        "drive.mount('/content/drive')\n",
        "\n",
        "# I created the validation dataset using ~10% of the train data.\n",
        "# Unzipping the train, test and validation datasets. \n",
        "!unzip -q '/content/drive/My Drive/Colab Notebooks/train.zip'\n",
        "!unzip -q '/content/drive/My Drive/Colab Notebooks/test1.zip'\n",
        "!unzip -q '/content/drive/My Drive/Colab Notebooks/validation.zip'\n"
      ],
      "execution_count": 1,
      "outputs": [
        {
          "output_type": "stream",
          "text": [
            "Go to this URL in a browser: https://accounts.google.com/o/oauth2/auth?client_id=947318989803-6bn6qk8qdgf4n4g3pfee6491hc0brc4i.apps.googleusercontent.com&redirect_uri=urn%3Aietf%3Awg%3Aoauth%3A2.0%3Aoob&scope=email%20https%3A%2F%2Fwww.googleapis.com%2Fauth%2Fdocs.test%20https%3A%2F%2Fwww.googleapis.com%2Fauth%2Fdrive%20https%3A%2F%2Fwww.googleapis.com%2Fauth%2Fdrive.photos.readonly%20https%3A%2F%2Fwww.googleapis.com%2Fauth%2Fpeopleapi.readonly&response_type=code\n",
            "\n",
            "Enter your authorization code:\n",
            "··········\n",
            "Mounted at /content/drive\n"
          ],
          "name": "stdout"
        }
      ]
    },
    {
      "cell_type": "code",
      "metadata": {
        "id": "Y0TgN_TOICPX",
        "colab_type": "code",
        "colab": {}
      },
      "source": [
        "# from __future__ import absolute_import, division, print_function, unicode_literals\n",
        "\n",
        "# # Import TensorFlow\n",
        "# import tensorflow as tf\n",
        "\n",
        "# # Helper libraries\n",
        "# import numpy as np\n",
        "# import os\n",
        "\n",
        "# assert os.environ['COLAB_TPU_ADDR'], 'Make sure to select TPU from Edit > Notebook settings > Hardware accelerator'\n",
        "\n",
        "# assert float('.'.join(tf.__version__.split('.')[:2])) >= 1.14, 'Make sure that Tensorflow version is at least 1.14'\n",
        "\n",
        "# TPU_WORKER = 'grpc://' + os.environ['COLAB_TPU_ADDR']\n",
        "\n",
        "# resolver = tf.contrib.cluster_resolver.TPUClusterResolver(tpu=TPU_WORKER)\n",
        "# tf.contrib.distribute.initialize_tpu_system(resolver)\n",
        "# strategy = tf.contrib.distribute.TPUStrategy(resolver)"
      ],
      "execution_count": 0,
      "outputs": []
    },
    {
      "cell_type": "code",
      "metadata": {
        "id": "EN3cTVG_lFeH",
        "colab_type": "code",
        "outputId": "8ea8a7de-e9e4-4107-e81c-81ec95b59fd0",
        "colab": {
          "base_uri": "https://localhost:8080/",
          "height": 81
        }
      },
      "source": [
        "# Imports used for the two models for VGG16 and for LeNet\n",
        "\n",
        "import numpy as np\n",
        "import pandas as pd\n",
        "\n",
        "import keras\n",
        "import keras.layers as layers\n",
        "from keras.models import Sequential\n",
        "from keras.preprocessing.image import ImageDataGenerator\n",
        "from keras.optimizers import Adam\n",
        "from keras.callbacks import ModelCheckpoint, EarlyStopping\n",
        "from keras.models import Sequential\n",
        "from keras.layers import Dense, Conv2D, MaxPool2D , Flatten, BatchNormalization\n",
        "\n",
        "from keras.preprocessing.image import ImageDataGenerator\n",
        "from keras.preprocessing import image\n",
        "import numpy as np\n",
        "%matplotlib inline\n",
        "import matplotlib.pyplot as plt"
      ],
      "execution_count": 3,
      "outputs": [
        {
          "output_type": "stream",
          "text": [
            "Using TensorFlow backend.\n"
          ],
          "name": "stderr"
        },
        {
          "output_type": "display_data",
          "data": {
            "text/html": [
              "<p style=\"color: red;\">\n",
              "The default version of TensorFlow in Colab will soon switch to TensorFlow 2.x.<br>\n",
              "We recommend you <a href=\"https://www.tensorflow.org/guide/migrate\" target=\"_blank\">upgrade</a> now \n",
              "or ensure your notebook will continue to use TensorFlow 1.x via the <code>%tensorflow_version 1.x</code> magic:\n",
              "<a href=\"https://colab.research.google.com/notebooks/tensorflow_version.ipynb\" target=\"_blank\">more info</a>.</p>\n"
            ],
            "text/plain": [
              "<IPython.core.display.HTML object>"
            ]
          },
          "metadata": {
            "tags": []
          }
        }
      ]
    },
    {
      "cell_type": "code",
      "metadata": {
        "id": "mY7iJko8maLz",
        "colab_type": "code",
        "outputId": "8baadff6-8903-42b4-b3a6-468f6f73b309",
        "colab": {
          "base_uri": "https://localhost:8080/",
          "height": 52
        }
      },
      "source": [
        "# setting up the train and test data using the Keras ImageDataGenerator() API\n",
        "# Which generates batches of tensor image data with real time data augmentation\n",
        "# For LeNet it requires a size of 32 x 32\n",
        "# The batch size default value is 32. \n",
        "\n",
        "train_data = '/content/train'\n",
        "test_data = '/content/validation'\n",
        "\n",
        "trdata = ImageDataGenerator()\n",
        "traindata = trdata.flow_from_directory(directory=train_data,target_size=(32, 32), batch_size=32)\n",
        "\n",
        "tsdata = ImageDataGenerator()\n",
        "testdata = tsdata.flow_from_directory(directory=test_data, target_size=(32, 32))"
      ],
      "execution_count": 4,
      "outputs": [
        {
          "output_type": "stream",
          "text": [
            "Found 25000 images belonging to 2 classes.\n",
            "Found 2222 images belonging to 2 classes.\n"
          ],
          "name": "stdout"
        }
      ]
    },
    {
      "cell_type": "code",
      "metadata": {
        "id": "sEv8KGyQkzhc",
        "colab_type": "code",
        "colab": {}
      },
      "source": [
        "# LeNet model creation using a sequental model structure. Convolutional layers, pooling layers\n",
        "# and Dense fully connected layers.\n",
        "# I also had to modify the input shape and change it from 32x32x1 to 32x32x3 the \n",
        "# 3 is used for 3 channels needed for RGB data\n",
        "\n",
        "def build_model():\n",
        "        model = keras.Sequential()\n",
        "\n",
        "        model.add(layers.Conv2D(filters=6, \n",
        "                                kernel_size=(3, 3), \n",
        "                                activation='relu', \n",
        "                                input_shape=(32,32,3)))\n",
        "        model.add(layers.AveragePooling2D())\n",
        "\n",
        "        model.add(layers.Conv2D(filters=16, \n",
        "                                kernel_size=(3, 3), \n",
        "                                activation='relu'))\n",
        "        \n",
        "        model.add(layers.AveragePooling2D())\n",
        "\n",
        "        model.add(layers.Flatten())\n",
        "\n",
        "        model.add(layers.Dense(units=120, \n",
        "                               activation='relu'))\n",
        "\n",
        "        model.add(layers.Dense(units=84, \n",
        "                               activation='relu'))\n",
        "\n",
        "        model.add(layers.Dense(units=2, \n",
        "                               activation = 'softmax'))\n",
        "        return model"
      ],
      "execution_count": 0,
      "outputs": []
    },
    {
      "cell_type": "code",
      "metadata": {
        "id": "d8NV6FE3lhkj",
        "colab_type": "code",
        "outputId": "fca60b75-8603-4c4b-e94f-cf0c4baba6de",
        "colab": {
          "base_uri": "https://localhost:8080/",
          "height": 585
        }
      },
      "source": [
        "# Building the model\n",
        "model = build_model()\n",
        "# Returning the model characteristics of the LeNet \n",
        "model.summary()\n",
        "\n"
      ],
      "execution_count": 6,
      "outputs": [
        {
          "output_type": "stream",
          "text": [
            "WARNING:tensorflow:From /usr/local/lib/python3.6/dist-packages/keras/backend/tensorflow_backend.py:66: The name tf.get_default_graph is deprecated. Please use tf.compat.v1.get_default_graph instead.\n",
            "\n",
            "WARNING:tensorflow:From /usr/local/lib/python3.6/dist-packages/keras/backend/tensorflow_backend.py:541: The name tf.placeholder is deprecated. Please use tf.compat.v1.placeholder instead.\n",
            "\n",
            "WARNING:tensorflow:From /usr/local/lib/python3.6/dist-packages/keras/backend/tensorflow_backend.py:4432: The name tf.random_uniform is deprecated. Please use tf.random.uniform instead.\n",
            "\n",
            "WARNING:tensorflow:From /usr/local/lib/python3.6/dist-packages/keras/backend/tensorflow_backend.py:4271: The name tf.nn.avg_pool is deprecated. Please use tf.nn.avg_pool2d instead.\n",
            "\n",
            "Model: \"sequential_1\"\n",
            "_________________________________________________________________\n",
            "Layer (type)                 Output Shape              Param #   \n",
            "=================================================================\n",
            "conv2d_1 (Conv2D)            (None, 30, 30, 6)         168       \n",
            "_________________________________________________________________\n",
            "average_pooling2d_1 (Average (None, 15, 15, 6)         0         \n",
            "_________________________________________________________________\n",
            "conv2d_2 (Conv2D)            (None, 13, 13, 16)        880       \n",
            "_________________________________________________________________\n",
            "average_pooling2d_2 (Average (None, 6, 6, 16)          0         \n",
            "_________________________________________________________________\n",
            "flatten_1 (Flatten)          (None, 576)               0         \n",
            "_________________________________________________________________\n",
            "dense_1 (Dense)              (None, 120)               69240     \n",
            "_________________________________________________________________\n",
            "dense_2 (Dense)              (None, 84)                10164     \n",
            "_________________________________________________________________\n",
            "dense_3 (Dense)              (None, 2)                 170       \n",
            "=================================================================\n",
            "Total params: 80,622\n",
            "Trainable params: 80,622\n",
            "Non-trainable params: 0\n",
            "_________________________________________________________________\n"
          ],
          "name": "stdout"
        }
      ]
    },
    {
      "cell_type": "code",
      "metadata": {
        "id": "VzIGVU3a4yZv",
        "colab_type": "code",
        "outputId": "28482d43-fbe6-428c-8b8d-c5965207a1ed",
        "colab": {
          "base_uri": "https://localhost:8080/",
          "height": 87
        }
      },
      "source": [
        "# The optimization used is Adam with a learning rate of 0.001 \n",
        "opt = Adam(lr=0.001)\n",
        "# Compiling the model to run \n",
        "model.compile(optimizer=opt, loss=keras.losses.categorical_crossentropy, metrics=['accuracy'])"
      ],
      "execution_count": 7,
      "outputs": [
        {
          "output_type": "stream",
          "text": [
            "WARNING:tensorflow:From /usr/local/lib/python3.6/dist-packages/keras/optimizers.py:793: The name tf.train.Optimizer is deprecated. Please use tf.compat.v1.train.Optimizer instead.\n",
            "\n",
            "WARNING:tensorflow:From /usr/local/lib/python3.6/dist-packages/keras/backend/tensorflow_backend.py:3576: The name tf.log is deprecated. Please use tf.math.log instead.\n",
            "\n"
          ],
          "name": "stdout"
        }
      ]
    },
    {
      "cell_type": "code",
      "metadata": {
        "id": "62dg5N6b40Zx",
        "colab_type": "code",
        "outputId": "b695464c-d5db-4059-a44f-30861d2c6fe8",
        "colab": {
          "base_uri": "https://localhost:8080/",
          "height": 1000
        }
      },
      "source": [
        "# Executing the model with the given epochs with the training data and validation data. \n",
        "hist = model.fit_generator(steps_per_epoch=100,generator=traindata, validation_data= testdata, validation_steps=10,epochs=100)"
      ],
      "execution_count": 8,
      "outputs": [
        {
          "output_type": "stream",
          "text": [
            "WARNING:tensorflow:From /usr/local/lib/python3.6/dist-packages/tensorflow_core/python/ops/math_grad.py:1424: where (from tensorflow.python.ops.array_ops) is deprecated and will be removed in a future version.\n",
            "Instructions for updating:\n",
            "Use tf.where in 2.0, which has the same broadcast rule as np.where\n",
            "WARNING:tensorflow:From /usr/local/lib/python3.6/dist-packages/keras/backend/tensorflow_backend.py:1033: The name tf.assign_add is deprecated. Please use tf.compat.v1.assign_add instead.\n",
            "\n",
            "WARNING:tensorflow:From /usr/local/lib/python3.6/dist-packages/keras/backend/tensorflow_backend.py:1020: The name tf.assign is deprecated. Please use tf.compat.v1.assign instead.\n",
            "\n",
            "WARNING:tensorflow:From /usr/local/lib/python3.6/dist-packages/keras/backend/tensorflow_backend.py:3005: The name tf.Session is deprecated. Please use tf.compat.v1.Session instead.\n",
            "\n",
            "Epoch 1/100\n",
            "WARNING:tensorflow:From /usr/local/lib/python3.6/dist-packages/keras/backend/tensorflow_backend.py:190: The name tf.get_default_session is deprecated. Please use tf.compat.v1.get_default_session instead.\n",
            "\n",
            "WARNING:tensorflow:From /usr/local/lib/python3.6/dist-packages/keras/backend/tensorflow_backend.py:197: The name tf.ConfigProto is deprecated. Please use tf.compat.v1.ConfigProto instead.\n",
            "\n",
            "WARNING:tensorflow:From /usr/local/lib/python3.6/dist-packages/keras/backend/tensorflow_backend.py:207: The name tf.global_variables is deprecated. Please use tf.compat.v1.global_variables instead.\n",
            "\n",
            "WARNING:tensorflow:From /usr/local/lib/python3.6/dist-packages/keras/backend/tensorflow_backend.py:216: The name tf.is_variable_initialized is deprecated. Please use tf.compat.v1.is_variable_initialized instead.\n",
            "\n",
            "WARNING:tensorflow:From /usr/local/lib/python3.6/dist-packages/keras/backend/tensorflow_backend.py:223: The name tf.variables_initializer is deprecated. Please use tf.compat.v1.variables_initializer instead.\n",
            "\n",
            "100/100 [==============================] - 14s 141ms/step - loss: 2.8219 - acc: 0.5150 - val_loss: 0.6840 - val_acc: 0.5938\n",
            "Epoch 2/100\n",
            "100/100 [==============================] - 7s 75ms/step - loss: 0.6825 - acc: 0.5850 - val_loss: 0.6584 - val_acc: 0.6000\n",
            "Epoch 3/100\n",
            "100/100 [==============================] - 7s 74ms/step - loss: 0.6520 - acc: 0.6191 - val_loss: 0.6036 - val_acc: 0.6531\n",
            "Epoch 4/100\n",
            "100/100 [==============================] - 7s 74ms/step - loss: 0.6504 - acc: 0.6234 - val_loss: 0.6214 - val_acc: 0.6594\n",
            "Epoch 5/100\n",
            "100/100 [==============================] - 7s 74ms/step - loss: 0.6365 - acc: 0.6472 - val_loss: 0.6070 - val_acc: 0.6719\n",
            "Epoch 6/100\n",
            "100/100 [==============================] - 7s 74ms/step - loss: 0.6347 - acc: 0.6403 - val_loss: 0.5982 - val_acc: 0.6937\n",
            "Epoch 7/100\n",
            "100/100 [==============================] - 7s 74ms/step - loss: 0.6311 - acc: 0.6475 - val_loss: 0.6224 - val_acc: 0.6325\n",
            "Epoch 8/100\n",
            "100/100 [==============================] - 8s 75ms/step - loss: 0.6347 - acc: 0.6372 - val_loss: 0.5917 - val_acc: 0.7031\n",
            "Epoch 9/100\n",
            "100/100 [==============================] - 7s 74ms/step - loss: 0.6030 - acc: 0.6859 - val_loss: 0.5858 - val_acc: 0.6875\n",
            "Epoch 10/100\n",
            "100/100 [==============================] - 7s 74ms/step - loss: 0.6025 - acc: 0.6688 - val_loss: 0.5663 - val_acc: 0.6875\n",
            "Epoch 11/100\n",
            "100/100 [==============================] - 7s 75ms/step - loss: 0.5905 - acc: 0.6916 - val_loss: 0.5826 - val_acc: 0.7000\n",
            "Epoch 12/100\n",
            "100/100 [==============================] - 7s 74ms/step - loss: 0.5947 - acc: 0.6844 - val_loss: 0.5486 - val_acc: 0.7219\n",
            "Epoch 13/100\n",
            "100/100 [==============================] - 7s 74ms/step - loss: 0.6049 - acc: 0.6762 - val_loss: 0.5566 - val_acc: 0.6906\n",
            "Epoch 14/100\n",
            "100/100 [==============================] - 7s 73ms/step - loss: 0.5973 - acc: 0.6769 - val_loss: 0.5651 - val_acc: 0.7219\n",
            "Epoch 15/100\n",
            "100/100 [==============================] - 7s 75ms/step - loss: 0.6074 - acc: 0.6766 - val_loss: 0.5902 - val_acc: 0.6500\n",
            "Epoch 16/100\n",
            "100/100 [==============================] - 7s 74ms/step - loss: 0.5916 - acc: 0.6834 - val_loss: 0.5864 - val_acc: 0.6687\n",
            "Epoch 17/100\n",
            "100/100 [==============================] - 7s 74ms/step - loss: 0.5719 - acc: 0.6994 - val_loss: 0.5409 - val_acc: 0.7094\n",
            "Epoch 18/100\n",
            "100/100 [==============================] - 7s 74ms/step - loss: 0.5637 - acc: 0.7034 - val_loss: 0.5145 - val_acc: 0.7312\n",
            "Epoch 19/100\n",
            "100/100 [==============================] - 7s 74ms/step - loss: 0.5658 - acc: 0.7075 - val_loss: 0.5559 - val_acc: 0.7219\n",
            "Epoch 20/100\n",
            "100/100 [==============================] - 7s 75ms/step - loss: 0.5880 - acc: 0.6863 - val_loss: 0.5368 - val_acc: 0.7063\n",
            "Epoch 21/100\n",
            "100/100 [==============================] - 7s 75ms/step - loss: 0.5834 - acc: 0.6891 - val_loss: 0.5340 - val_acc: 0.7119\n",
            "Epoch 22/100\n",
            "100/100 [==============================] - 8s 76ms/step - loss: 0.5677 - acc: 0.7041 - val_loss: 0.5040 - val_acc: 0.7500\n",
            "Epoch 23/100\n",
            "100/100 [==============================] - 7s 73ms/step - loss: 0.5679 - acc: 0.7075 - val_loss: 0.4854 - val_acc: 0.7719\n",
            "Epoch 24/100\n",
            "100/100 [==============================] - 8s 75ms/step - loss: 0.5337 - acc: 0.7300 - val_loss: 0.5613 - val_acc: 0.7312\n",
            "Epoch 25/100\n",
            "100/100 [==============================] - 7s 73ms/step - loss: 0.5304 - acc: 0.7278 - val_loss: 0.5066 - val_acc: 0.7438\n",
            "Epoch 26/100\n",
            "100/100 [==============================] - 7s 75ms/step - loss: 0.5352 - acc: 0.7266 - val_loss: 0.5144 - val_acc: 0.7531\n",
            "Epoch 27/100\n",
            "100/100 [==============================] - 7s 73ms/step - loss: 0.5365 - acc: 0.7381 - val_loss: 0.5175 - val_acc: 0.7562\n",
            "Epoch 28/100\n",
            "100/100 [==============================] - 7s 73ms/step - loss: 0.5514 - acc: 0.7262 - val_loss: 0.5984 - val_acc: 0.6954\n",
            "Epoch 29/100\n",
            "100/100 [==============================] - 7s 74ms/step - loss: 0.5579 - acc: 0.6984 - val_loss: 0.4852 - val_acc: 0.7656\n",
            "Epoch 30/100\n",
            "100/100 [==============================] - 7s 74ms/step - loss: 0.5439 - acc: 0.7188 - val_loss: 0.4916 - val_acc: 0.7688\n",
            "Epoch 31/100\n",
            "100/100 [==============================] - 7s 74ms/step - loss: 0.5544 - acc: 0.7225 - val_loss: 0.4727 - val_acc: 0.7656\n",
            "Epoch 32/100\n",
            "100/100 [==============================] - 7s 74ms/step - loss: 0.5168 - acc: 0.7409 - val_loss: 0.4548 - val_acc: 0.7844\n",
            "Epoch 33/100\n",
            "100/100 [==============================] - 7s 75ms/step - loss: 0.4933 - acc: 0.7575 - val_loss: 0.4971 - val_acc: 0.7500\n",
            "Epoch 34/100\n",
            "100/100 [==============================] - 7s 74ms/step - loss: 0.4828 - acc: 0.7656 - val_loss: 0.4780 - val_acc: 0.7656\n",
            "Epoch 35/100\n",
            "100/100 [==============================] - 7s 73ms/step - loss: 0.5093 - acc: 0.7394 - val_loss: 0.4814 - val_acc: 0.7450\n",
            "Epoch 36/100\n",
            "100/100 [==============================] - 8s 75ms/step - loss: 0.4998 - acc: 0.7541 - val_loss: 0.4616 - val_acc: 0.7750\n",
            "Epoch 37/100\n",
            "100/100 [==============================] - 7s 75ms/step - loss: 0.5140 - acc: 0.7416 - val_loss: 0.4519 - val_acc: 0.7969\n",
            "Epoch 38/100\n",
            "100/100 [==============================] - 8s 75ms/step - loss: 0.5206 - acc: 0.7362 - val_loss: 0.3971 - val_acc: 0.8250\n",
            "Epoch 39/100\n",
            "100/100 [==============================] - 8s 76ms/step - loss: 0.5170 - acc: 0.7403 - val_loss: 0.4657 - val_acc: 0.7781\n",
            "Epoch 40/100\n",
            "100/100 [==============================] - 8s 76ms/step - loss: 0.4526 - acc: 0.7862 - val_loss: 0.4711 - val_acc: 0.7469\n",
            "Epoch 41/100\n",
            "100/100 [==============================] - 8s 77ms/step - loss: 0.4525 - acc: 0.7903 - val_loss: 0.4831 - val_acc: 0.7562\n",
            "Epoch 42/100\n",
            "100/100 [==============================] - 7s 74ms/step - loss: 0.4690 - acc: 0.7691 - val_loss: 0.4442 - val_acc: 0.8013\n",
            "Epoch 43/100\n",
            "100/100 [==============================] - 8s 77ms/step - loss: 0.4683 - acc: 0.7772 - val_loss: 0.4213 - val_acc: 0.8219\n",
            "Epoch 44/100\n",
            "100/100 [==============================] - 8s 77ms/step - loss: 0.4785 - acc: 0.7622 - val_loss: 0.4004 - val_acc: 0.8125\n",
            "Epoch 45/100\n",
            "100/100 [==============================] - 7s 75ms/step - loss: 0.4745 - acc: 0.7644 - val_loss: 0.4189 - val_acc: 0.8000\n",
            "Epoch 46/100\n",
            "100/100 [==============================] - 7s 74ms/step - loss: 0.4693 - acc: 0.7712 - val_loss: 0.3991 - val_acc: 0.8094\n",
            "Epoch 47/100\n",
            "100/100 [==============================] - 8s 75ms/step - loss: 0.4779 - acc: 0.7716 - val_loss: 0.4370 - val_acc: 0.7812\n",
            "Epoch 48/100\n",
            "100/100 [==============================] - 7s 75ms/step - loss: 0.4039 - acc: 0.8169 - val_loss: 0.3709 - val_acc: 0.8469\n",
            "Epoch 49/100\n",
            "100/100 [==============================] - 7s 75ms/step - loss: 0.3875 - acc: 0.8228 - val_loss: 0.3737 - val_acc: 0.8477\n",
            "Epoch 50/100\n",
            "100/100 [==============================] - 7s 74ms/step - loss: 0.4166 - acc: 0.8019 - val_loss: 0.4006 - val_acc: 0.8281\n",
            "Epoch 51/100\n",
            "100/100 [==============================] - 7s 74ms/step - loss: 0.4232 - acc: 0.8003 - val_loss: 0.3723 - val_acc: 0.8125\n",
            "Epoch 52/100\n",
            "100/100 [==============================] - 8s 75ms/step - loss: 0.4448 - acc: 0.7919 - val_loss: 0.4206 - val_acc: 0.7719\n",
            "Epoch 53/100\n",
            "100/100 [==============================] - 8s 75ms/step - loss: 0.4485 - acc: 0.7878 - val_loss: 0.3679 - val_acc: 0.8406\n",
            "Epoch 54/100\n",
            "100/100 [==============================] - 8s 76ms/step - loss: 0.4484 - acc: 0.7859 - val_loss: 0.3529 - val_acc: 0.8500\n",
            "Epoch 55/100\n",
            "100/100 [==============================] - 7s 75ms/step - loss: 0.4325 - acc: 0.7950 - val_loss: 0.3726 - val_acc: 0.8000\n",
            "Epoch 56/100\n",
            "100/100 [==============================] - 7s 75ms/step - loss: 0.3485 - acc: 0.8453 - val_loss: 0.3111 - val_acc: 0.8841\n",
            "Epoch 57/100\n",
            "100/100 [==============================] - 8s 76ms/step - loss: 0.3567 - acc: 0.8419 - val_loss: 0.3434 - val_acc: 0.8344\n",
            "Epoch 58/100\n",
            "100/100 [==============================] - 7s 74ms/step - loss: 0.3710 - acc: 0.8312 - val_loss: 0.3325 - val_acc: 0.8500\n",
            "Epoch 59/100\n",
            "100/100 [==============================] - 7s 74ms/step - loss: 0.4056 - acc: 0.8094 - val_loss: 0.4115 - val_acc: 0.8125\n",
            "Epoch 60/100\n",
            "100/100 [==============================] - 7s 75ms/step - loss: 0.3829 - acc: 0.8287 - val_loss: 0.2902 - val_acc: 0.8906\n",
            "Epoch 61/100\n",
            "100/100 [==============================] - 8s 76ms/step - loss: 0.3953 - acc: 0.8169 - val_loss: 0.3278 - val_acc: 0.8656\n",
            "Epoch 62/100\n",
            "100/100 [==============================] - 8s 75ms/step - loss: 0.3898 - acc: 0.8166 - val_loss: 0.2988 - val_acc: 0.8688\n",
            "Epoch 63/100\n",
            "100/100 [==============================] - 8s 77ms/step - loss: 0.3602 - acc: 0.8356 - val_loss: 0.2971 - val_acc: 0.8709\n",
            "Epoch 64/100\n",
            "100/100 [==============================] - 8s 76ms/step - loss: 0.2850 - acc: 0.8812 - val_loss: 0.3017 - val_acc: 0.8531\n",
            "Epoch 65/100\n",
            "100/100 [==============================] - 8s 75ms/step - loss: 0.3119 - acc: 0.8550 - val_loss: 0.2712 - val_acc: 0.8875\n",
            "Epoch 66/100\n",
            "100/100 [==============================] - 8s 75ms/step - loss: 0.2947 - acc: 0.8706 - val_loss: 0.2559 - val_acc: 0.9094\n",
            "Epoch 67/100\n",
            "100/100 [==============================] - 7s 74ms/step - loss: 0.3299 - acc: 0.8506 - val_loss: 0.3378 - val_acc: 0.8656\n",
            "Epoch 68/100\n",
            "100/100 [==============================] - 7s 74ms/step - loss: 0.3442 - acc: 0.8369 - val_loss: 0.2898 - val_acc: 0.8719\n",
            "Epoch 69/100\n",
            "100/100 [==============================] - 7s 73ms/step - loss: 0.3506 - acc: 0.8456 - val_loss: 0.2587 - val_acc: 0.8750\n",
            "Epoch 70/100\n",
            "100/100 [==============================] - 7s 73ms/step - loss: 0.3566 - acc: 0.8344 - val_loss: 0.2175 - val_acc: 0.9205\n",
            "Epoch 71/100\n",
            "100/100 [==============================] - 8s 76ms/step - loss: 0.2808 - acc: 0.8822 - val_loss: 0.1534 - val_acc: 0.9313\n",
            "Epoch 72/100\n",
            "100/100 [==============================] - 8s 76ms/step - loss: 0.2424 - acc: 0.8953 - val_loss: 0.2491 - val_acc: 0.8906\n",
            "Epoch 73/100\n",
            "100/100 [==============================] - 8s 76ms/step - loss: 0.2491 - acc: 0.8959 - val_loss: 0.2422 - val_acc: 0.9031\n",
            "Epoch 74/100\n",
            "100/100 [==============================] - 7s 75ms/step - loss: 0.2752 - acc: 0.8819 - val_loss: 0.1814 - val_acc: 0.9437\n",
            "Epoch 75/100\n",
            "100/100 [==============================] - 8s 76ms/step - loss: 0.2837 - acc: 0.8778 - val_loss: 0.2094 - val_acc: 0.8969\n",
            "Epoch 76/100\n",
            "100/100 [==============================] - 7s 74ms/step - loss: 0.2861 - acc: 0.8728 - val_loss: 0.2177 - val_acc: 0.9219\n",
            "Epoch 77/100\n",
            "100/100 [==============================] - 7s 74ms/step - loss: 0.2972 - acc: 0.8706 - val_loss: 0.2049 - val_acc: 0.9073\n",
            "Epoch 78/100\n",
            "100/100 [==============================] - 8s 76ms/step - loss: 0.3064 - acc: 0.8659 - val_loss: 0.2005 - val_acc: 0.9344\n",
            "Epoch 79/100\n",
            "100/100 [==============================] - 7s 75ms/step - loss: 0.2110 - acc: 0.9181 - val_loss: 0.1161 - val_acc: 0.9625\n",
            "Epoch 80/100\n",
            "100/100 [==============================] - 7s 74ms/step - loss: 0.1965 - acc: 0.9175 - val_loss: 0.2062 - val_acc: 0.9344\n",
            "Epoch 81/100\n",
            "100/100 [==============================] - 8s 75ms/step - loss: 0.2089 - acc: 0.9134 - val_loss: 0.1612 - val_acc: 0.9281\n",
            "Epoch 82/100\n",
            "100/100 [==============================] - 7s 74ms/step - loss: 0.2195 - acc: 0.9028 - val_loss: 0.2147 - val_acc: 0.9000\n",
            "Epoch 83/100\n",
            "100/100 [==============================] - 7s 74ms/step - loss: 0.2285 - acc: 0.9022 - val_loss: 0.2258 - val_acc: 0.9000\n",
            "Epoch 84/100\n",
            "100/100 [==============================] - 7s 75ms/step - loss: 0.2421 - acc: 0.9016 - val_loss: 0.2055 - val_acc: 0.8974\n",
            "Epoch 85/100\n",
            "100/100 [==============================] - 8s 75ms/step - loss: 0.2768 - acc: 0.8863 - val_loss: 0.1675 - val_acc: 0.9344\n",
            "Epoch 86/100\n",
            "100/100 [==============================] - 8s 75ms/step - loss: 0.2540 - acc: 0.8903 - val_loss: 0.1544 - val_acc: 0.9437\n",
            "Epoch 87/100\n",
            "100/100 [==============================] - 8s 76ms/step - loss: 0.1606 - acc: 0.9366 - val_loss: 0.1683 - val_acc: 0.9156\n",
            "Epoch 88/100\n",
            "100/100 [==============================] - 7s 74ms/step - loss: 0.1584 - acc: 0.9366 - val_loss: 0.1366 - val_acc: 0.9406\n",
            "Epoch 89/100\n",
            "100/100 [==============================] - 8s 76ms/step - loss: 0.1916 - acc: 0.9194 - val_loss: 0.1514 - val_acc: 0.9500\n",
            "Epoch 90/100\n",
            "100/100 [==============================] - 8s 75ms/step - loss: 0.1862 - acc: 0.9256 - val_loss: 0.1337 - val_acc: 0.9406\n",
            "Epoch 91/100\n",
            "100/100 [==============================] - 7s 74ms/step - loss: 0.1880 - acc: 0.9234 - val_loss: 0.1003 - val_acc: 0.9735\n",
            "Epoch 92/100\n",
            "100/100 [==============================] - 7s 75ms/step - loss: 0.2017 - acc: 0.9116 - val_loss: 0.1271 - val_acc: 0.9375\n",
            "Epoch 93/100\n",
            "100/100 [==============================] - 7s 74ms/step - loss: 0.2404 - acc: 0.8988 - val_loss: 0.2045 - val_acc: 0.9281\n",
            "Epoch 94/100\n",
            "100/100 [==============================] - 8s 76ms/step - loss: 0.2011 - acc: 0.9172 - val_loss: 0.1268 - val_acc: 0.9406\n",
            "Epoch 95/100\n",
            "100/100 [==============================] - 8s 77ms/step - loss: 0.1215 - acc: 0.9566 - val_loss: 0.0990 - val_acc: 0.9500\n",
            "Epoch 96/100\n",
            "100/100 [==============================] - 7s 74ms/step - loss: 0.1492 - acc: 0.9400 - val_loss: 0.1996 - val_acc: 0.9281\n",
            "Epoch 97/100\n",
            "100/100 [==============================] - 7s 75ms/step - loss: 0.1425 - acc: 0.9450 - val_loss: 0.1214 - val_acc: 0.9469\n",
            "Epoch 98/100\n",
            "100/100 [==============================] - 7s 74ms/step - loss: 0.1634 - acc: 0.9384 - val_loss: 0.1619 - val_acc: 0.9371\n",
            "Epoch 99/100\n",
            "100/100 [==============================] - 7s 75ms/step - loss: 0.1577 - acc: 0.9331 - val_loss: 0.1533 - val_acc: 0.9313\n",
            "Epoch 100/100\n",
            "100/100 [==============================] - 7s 74ms/step - loss: 0.1742 - acc: 0.9281 - val_loss: 0.1079 - val_acc: 0.9719\n"
          ],
          "name": "stdout"
        }
      ]
    },
    {
      "cell_type": "code",
      "metadata": {
        "id": "OFz1ZbiH_1F-",
        "colab_type": "code",
        "outputId": "a51325d9-d838-4307-8a24-172cf3b83f85",
        "colab": {
          "base_uri": "https://localhost:8080/",
          "height": 294
        }
      },
      "source": [
        "# Plotting the model metrics of accuracy, validation accuracy, loss and validation loss,\n",
        "# looking at Accuracy on the y axis over the epoch on the axis.\n",
        "\n",
        "plt.plot(hist.history[\"acc\"])\n",
        "plt.plot(hist.history['val_acc'])\n",
        "plt.plot(hist.history['loss'])\n",
        "plt.plot(hist.history['val_loss'])\n",
        "plt.title(\"model accuracy\")\n",
        "plt.ylabel(\"Accuracy\")\n",
        "plt.xlabel(\"Epoch\")\n",
        "plt.legend([\"Accuracy\",\"Validation Accuracy\",\"loss\",\"Validation Loss\"])\n",
        "plt.show()"
      ],
      "execution_count": 9,
      "outputs": [
        {
          "output_type": "display_data",
          "data": {
            "image/png": "[encoded data removed]",
            "text/plain": [
              "<Figure size 432x288 with 1 Axes>"
            ]
          },
          "metadata": {
            "tags": []
          }
        }
      ]
    },
    {
      "cell_type": "markdown",
      "metadata": {
        "id": "Zp24USGvmMQI",
        "colab_type": "text"
      },
      "source": [
        "\n",
        "# Below is the model for the VGG16 \n",
        "\n"
      ]
    },
    {
      "cell_type": "markdown",
      "metadata": {
        "id": "DCIYRkoeHT6p",
        "colab_type": "text"
      },
      "source": [
        "Setting up the VGG16 convolutional network"
      ]
    },
    {
      "cell_type": "code",
      "metadata": {
        "id": "Kh6SQe04oxiG",
        "colab_type": "code",
        "outputId": "bd9c2bc2-0fc1-4fb7-dfef-2be435acaebf",
        "colab": {
          "base_uri": "https://localhost:8080/",
          "height": 52
        }
      },
      "source": [
        "# setting up the train and test data using the Keras ImageDataGenerator() API\n",
        "# Which generates batches of tensor image data with real time data augmentation\n",
        "# For VGG16 convolutional network it requires a size of 224 x 224\n",
        "# The batch size default value is 32. \n",
        "\n",
        "train_data = '/content/train'\n",
        "test_data = '/content/validation'\n",
        "trdata = ImageDataGenerator()\n",
        "traindata = trdata.flow_from_directory(directory=train_data,target_size=(224,224), batch_size=32)\n",
        "tsdata = ImageDataGenerator()\n",
        "testdata = tsdata.flow_from_directory(directory=test_data, target_size=(224,224))"
      ],
      "execution_count": 10,
      "outputs": [
        {
          "output_type": "stream",
          "text": [
            "Found 25000 images belonging to 2 classes.\n",
            "Found 2222 images belonging to 2 classes.\n"
          ],
          "name": "stdout"
        }
      ]
    },
    {
      "cell_type": "code",
      "metadata": {
        "id": "8HT-v2WmpDBA",
        "colab_type": "code",
        "outputId": "67850093-a32d-49ec-f65e-658bbfd064ce",
        "colab": {
          "base_uri": "https://localhost:8080/",
          "height": 107
        }
      },
      "source": [
        "# creating the model and the different layers needed for the VGG16 convolutional network using the sequential model structure\n",
        "# I am using the relu for the activation function. \n",
        "# I am using multiple convolutional layers, maxpooling and a few dense fully connected layers.\n",
        "# the pool size is 2,2 matrix and a kernal size matrix of 3x3, with the edge padding set as \"same\"\n",
        "\n",
        "model = Sequential()\n",
        "model.add(Conv2D(input_shape=(224,224,3),filters=64,kernel_size=(3,3),padding=\"same\", activation=\"relu\"))\n",
        "model.add(Conv2D(filters=64,kernel_size=(3,3),padding=\"same\", activation=\"relu\"))\n",
        "model.add(MaxPool2D(pool_size=(2,2),strides=(2,2)))\n",
        "model.add(Conv2D(filters=128, kernel_size=(3,3), padding=\"same\", activation=\"relu\"))\n",
        "model.add(Conv2D(filters=128, kernel_size=(3,3), padding=\"same\", activation=\"relu\"))\n",
        "model.add(MaxPool2D(pool_size=(2,2),strides=(2,2)))\n",
        "model.add(Conv2D(filters=256, kernel_size=(3,3), padding=\"same\", activation=\"relu\"))\n",
        "model.add(Conv2D(filters=256, kernel_size=(3,3), padding=\"same\", activation=\"relu\"))\n",
        "model.add(Conv2D(filters=256, kernel_size=(3,3), padding=\"same\", activation=\"relu\"))\n",
        "model.add(MaxPool2D(pool_size=(2,2),strides=(2,2)))\n",
        "model.add(Conv2D(filters=512, kernel_size=(3,3), padding=\"same\", activation=\"relu\"))\n",
        "model.add(Conv2D(filters=512, kernel_size=(3,3), padding=\"same\", activation=\"relu\"))\n",
        "model.add(Conv2D(filters=512, kernel_size=(3,3), padding=\"same\", activation=\"relu\"))\n",
        "model.add(MaxPool2D(pool_size=(2,2),strides=(2,2)))\n",
        "model.add(Conv2D(filters=512, kernel_size=(3,3), padding=\"same\", activation=\"relu\"))\n",
        "model.add(Conv2D(filters=512, kernel_size=(3,3), padding=\"same\", activation=\"relu\"))\n",
        "model.add(Conv2D(filters=512, kernel_size=(3,3), padding=\"same\", activation=\"relu\"))\n",
        "model.add(MaxPool2D(pool_size=(2,2),strides=(2,2)))\n",
        "model.add(Flatten())\n",
        "model.add(BatchNormalization())\n",
        "model.add(Dense(units=4096,activation=\"relu\"))\n",
        "model.add(BatchNormalization())\n",
        "model.add(Dense(units=4096,activation=\"relu\"))\n",
        "model.add(BatchNormalization())\n",
        "model.add(Dense(units=2, activation=\"softmax\"))"
      ],
      "execution_count": 11,
      "outputs": [
        {
          "output_type": "stream",
          "text": [
            "WARNING:tensorflow:From /usr/local/lib/python3.6/dist-packages/keras/backend/tensorflow_backend.py:4267: The name tf.nn.max_pool is deprecated. Please use tf.nn.max_pool2d instead.\n",
            "\n",
            "WARNING:tensorflow:From /usr/local/lib/python3.6/dist-packages/keras/backend/tensorflow_backend.py:148: The name tf.placeholder_with_default is deprecated. Please use tf.compat.v1.placeholder_with_default instead.\n",
            "\n"
          ],
          "name": "stdout"
        }
      ]
    },
    {
      "cell_type": "code",
      "metadata": {
        "id": "_Oi9BnQbprHw",
        "colab_type": "code",
        "colab": {}
      },
      "source": [
        "# # Combining and creating the model\n",
        "# # using 4096 nodes in each dense fully connected layer \n",
        "# # with an output layer output of 2 using softmax to give a percentage between 0 and 1\n",
        "# model.add(Flatten())\n",
        "# model.add(Dense(units=4096,activation=\"relu\"))\n",
        "# model.add(Dense(units=4096,activation=\"relu\"))\n",
        "# model.add(Dense(units=2, activation=\"softmax\"))"
      ],
      "execution_count": 0,
      "outputs": []
    },
    {
      "cell_type": "code",
      "metadata": {
        "id": "L1l94EjiqOdx",
        "colab_type": "code",
        "colab": {}
      },
      "source": [
        "# Building the model using the Adam optimizor, and a loss funtion of categorical cross entropy\n",
        "opt = Adam(lr=0.002)\n",
        "model.compile(optimizer=opt, loss=keras.losses.categorical_crossentropy, metrics=['accuracy'])"
      ],
      "execution_count": 0,
      "outputs": []
    },
    {
      "cell_type": "code",
      "metadata": {
        "id": "vpU7yvjMqPWf",
        "colab_type": "code",
        "outputId": "5286e88d-6daa-47ec-8dc4-41c3193b18f9",
        "colab": {
          "base_uri": "https://localhost:8080/",
          "height": 1000
        }
      },
      "source": [
        "# Info about the created model\n",
        "model.summary()"
      ],
      "execution_count": 14,
      "outputs": [
        {
          "output_type": "stream",
          "text": [
            "Model: \"sequential_2\"\n",
            "_________________________________________________________________\n",
            "Layer (type)                 Output Shape              Param #   \n",
            "=================================================================\n",
            "conv2d_3 (Conv2D)            (None, 224, 224, 64)      1792      \n",
            "_________________________________________________________________\n",
            "conv2d_4 (Conv2D)            (None, 224, 224, 64)      36928     \n",
            "_________________________________________________________________\n",
            "max_pooling2d_1 (MaxPooling2 (None, 112, 112, 64)      0         \n",
            "_________________________________________________________________\n",
            "conv2d_5 (Conv2D)            (None, 112, 112, 128)     73856     \n",
            "_________________________________________________________________\n",
            "conv2d_6 (Conv2D)            (None, 112, 112, 128)     147584    \n",
            "_________________________________________________________________\n",
            "max_pooling2d_2 (MaxPooling2 (None, 56, 56, 128)       0         \n",
            "_________________________________________________________________\n",
            "conv2d_7 (Conv2D)            (None, 56, 56, 256)       295168    \n",
            "_________________________________________________________________\n",
            "conv2d_8 (Conv2D)            (None, 56, 56, 256)       590080    \n",
            "_________________________________________________________________\n",
            "conv2d_9 (Conv2D)            (None, 56, 56, 256)       590080    \n",
            "_________________________________________________________________\n",
            "max_pooling2d_3 (MaxPooling2 (None, 28, 28, 256)       0         \n",
            "_________________________________________________________________\n",
            "conv2d_10 (Conv2D)           (None, 28, 28, 512)       1180160   \n",
            "_________________________________________________________________\n",
            "conv2d_11 (Conv2D)           (None, 28, 28, 512)       2359808   \n",
            "_________________________________________________________________\n",
            "conv2d_12 (Conv2D)           (None, 28, 28, 512)       2359808   \n",
            "_________________________________________________________________\n",
            "max_pooling2d_4 (MaxPooling2 (None, 14, 14, 512)       0         \n",
            "_________________________________________________________________\n",
            "conv2d_13 (Conv2D)           (None, 14, 14, 512)       2359808   \n",
            "_________________________________________________________________\n",
            "conv2d_14 (Conv2D)           (None, 14, 14, 512)       2359808   \n",
            "_________________________________________________________________\n",
            "conv2d_15 (Conv2D)           (None, 14, 14, 512)       2359808   \n",
            "_________________________________________________________________\n",
            "max_pooling2d_5 (MaxPooling2 (None, 7, 7, 512)         0         \n",
            "_________________________________________________________________\n",
            "flatten_2 (Flatten)          (None, 25088)             0         \n",
            "_________________________________________________________________\n",
            "batch_normalization_1 (Batch (None, 25088)             100352    \n",
            "_________________________________________________________________\n",
            "dense_4 (Dense)              (None, 4096)              102764544 \n",
            "_________________________________________________________________\n",
            "batch_normalization_2 (Batch (None, 4096)              16384     \n",
            "_________________________________________________________________\n",
            "dense_5 (Dense)              (None, 4096)              16781312  \n",
            "_________________________________________________________________\n",
            "batch_normalization_3 (Batch (None, 4096)              16384     \n",
            "_________________________________________________________________\n",
            "dense_6 (Dense)              (None, 2)                 8194      \n",
            "=================================================================\n",
            "Total params: 134,401,858\n",
            "Trainable params: 134,335,298\n",
            "Non-trainable params: 66,560\n",
            "_________________________________________________________________\n"
          ],
          "name": "stdout"
        }
      ]
    },
    {
      "cell_type": "code",
      "metadata": {
        "id": "7I5TEqDjqc3l",
        "colab_type": "code",
        "outputId": "61d8f274-8ea1-4ef6-9a4d-293ed40856ff",
        "colab": {
          "base_uri": "https://localhost:8080/",
          "height": 410
        }
      },
      "source": [
        "# setting up the checkpoints since this model takes a very long time to train.\n",
        "# the steps per epoch is the same as the length of the number of batches of 32 images \n",
        "# Set the epoch count to 10 to insure training before the collab session times out\n",
        "\n",
        "checkpoint = ModelCheckpoint(\"vgg16_1.h5\", \n",
        "                             monitor='val_acc', \n",
        "                             verbose=1, \n",
        "                             save_best_only=True, \n",
        "                             save_weights_only=False, \n",
        "                             mode='auto', period=1)\n",
        "\n",
        "early = EarlyStopping(monitor='val_acc', \n",
        "                      min_delta=0, \n",
        "                      patience=20, \n",
        "                      verbose=1, \n",
        "                      mode='auto')\n",
        "\n",
        "hist = model.fit_generator(steps_per_epoch=100,\n",
        "                           generator=traindata, \n",
        "                           validation_data= testdata, \n",
        "                           validation_steps=10,\n",
        "                           epochs=10)\n",
        "'''\n",
        "hist = model.fit_generator(steps_per_epoch=len(traindata),\n",
        "                           generator=traindata, \n",
        "                           validation_data= testdata, \n",
        "                           validation_steps=10,\n",
        "                           epochs=100)\n",
        "'''"
      ],
      "execution_count": 15,
      "outputs": [
        {
          "output_type": "stream",
          "text": [
            "Epoch 1/10\n",
            "100/100 [==============================] - 35s 353ms/step - loss: 4.2648 - acc: 0.5062 - val_loss: 2.3916 - val_acc: 0.5125\n",
            "Epoch 2/10\n",
            "100/100 [==============================] - 28s 278ms/step - loss: 1.1266 - acc: 0.5369 - val_loss: 0.6899 - val_acc: 0.6062\n",
            "Epoch 3/10\n",
            "100/100 [==============================] - 28s 278ms/step - loss: 0.9690 - acc: 0.5369 - val_loss: 1.6505 - val_acc: 0.5125\n",
            "Epoch 4/10\n",
            "100/100 [==============================] - 28s 278ms/step - loss: 0.9935 - acc: 0.5350 - val_loss: 0.9228 - val_acc: 0.5531\n",
            "Epoch 5/10\n",
            "100/100 [==============================] - 28s 277ms/step - loss: 0.9189 - acc: 0.5272 - val_loss: 3.0767 - val_acc: 0.5250\n",
            "Epoch 6/10\n",
            "100/100 [==============================] - 28s 279ms/step - loss: 0.9708 - acc: 0.5438 - val_loss: 0.9626 - val_acc: 0.5437\n",
            "Epoch 7/10\n",
            "100/100 [==============================] - 29s 287ms/step - loss: 0.9635 - acc: 0.5310 - val_loss: 0.8366 - val_acc: 0.5464\n",
            "Epoch 8/10\n",
            "100/100 [==============================] - 28s 277ms/step - loss: 0.8752 - acc: 0.5534 - val_loss: 0.7742 - val_acc: 0.5094\n",
            "Epoch 9/10\n",
            "100/100 [==============================] - 28s 277ms/step - loss: 0.8303 - acc: 0.5744 - val_loss: 0.8255 - val_acc: 0.5656\n",
            "Epoch 10/10\n",
            "100/100 [==============================] - 28s 278ms/step - loss: 0.8840 - acc: 0.5456 - val_loss: 0.7440 - val_acc: 0.5844\n"
          ],
          "name": "stdout"
        },
        {
          "output_type": "execute_result",
          "data": {
            "text/plain": [
              "'\\nhist = model.fit_generator(steps_per_epoch=len(traindata),\\n                           generator=traindata, \\n                           validation_data= testdata, \\n                           validation_steps=10,\\n                           epochs=100)\\n'"
            ]
          },
          "metadata": {
            "tags": []
          },
          "execution_count": 15
        }
      ]
    },
    {
      "cell_type": "code",
      "metadata": {
        "id": "1dpenVBGqnF_",
        "colab_type": "code",
        "outputId": "1c2f4bf7-bd7e-4074-85cf-a64ec40f6248",
        "colab": {
          "base_uri": "https://localhost:8080/",
          "height": 294
        }
      },
      "source": [
        "# Plotting the model metrics of accuracy, validation accuracy, loss and validation loss,\n",
        "# looking at Accuracy on the y axis over the epoch on the axis.\n",
        "\n",
        "plt.plot(hist.history[\"acc\"])\n",
        "plt.plot(hist.history['val_acc'])\n",
        "plt.plot(hist.history['loss'])\n",
        "plt.plot(hist.history['val_loss'])\n",
        "plt.title(\"model accuracy\")\n",
        "plt.ylabel(\"Accuracy\")\n",
        "plt.xlabel(\"Epoch\")\n",
        "plt.legend([\"Accuracy\",\"Validation Accuracy\",\"loss\",\"Validation Loss\"])\n",
        "plt.show()"
      ],
      "execution_count": 16,
      "outputs": [
        {
          "output_type": "display_data",
          "data": {
            "image/png": "[encoded data removed]",
            "text/plain": [
              "<Figure size 432x288 with 1 Axes>"
            ]
          },
          "metadata": {
            "tags": []
          }
        }
      ]
    },
    {
      "cell_type": "code",
      "metadata": {
        "id": "gZWTsgyeq9Ay",
        "colab_type": "code",
        "outputId": "0cc8e85f-6837-4743-915a-abe60f0b38e3",
        "colab": {
          "base_uri": "https://localhost:8080/",
          "height": 286
        }
      },
      "source": [
        "# Testing the model and seeing how it does at prediction of a given image of a \n",
        "# dog or cat.\n",
        "from keras.preprocessing import image\n",
        "img = image.load_img(\"/content/test1/1005.jpg\",target_size=(224,224))\n",
        "img = np.asarray(img)\n",
        "plt.imshow(img)\n",
        "img = np.expand_dims(img, axis=0)\n",
        "from keras.models import load_model\n",
        "#saved_model = load_model(\"vgg16_1.h5\")\n",
        "output = model.predict(img)\n",
        "if output[0][0] > output[0][1]:\n",
        "    print(\"cat\")\n",
        "else:\n",
        "    print('dog')"
      ],
      "execution_count": 17,
      "outputs": [
        {
          "output_type": "stream",
          "text": [
            "dog\n"
          ],
          "name": "stdout"
        },
        {
          "output_type": "display_data",
          "data": {
            "image/png": "[encoded data removed]",
            "text/plain": [
              "<Figure size 432x288 with 1 Axes>"
            ]
          },
          "metadata": {
            "tags": []
          }
        }
      ]
    },
    {
      "cell_type": "code",
      "metadata": {
        "id": "sBE6j3q5rxu3",
        "colab_type": "code",
        "colab": {
          "base_uri": "https://localhost:8080/",
          "height": 133
        },
        "outputId": "83f40564-770a-4d78-817e-e45b4a9a158f"
      },
      "source": [
        "|"
      ],
      "execution_count": 18,
      "outputs": [
        {
          "output_type": "error",
          "ename": "SyntaxError",
          "evalue": "ignored",
          "traceback": [
            "\u001b[0;36m  File \u001b[0;32m\"<ipython-input-18-4b37ef281455>\"\u001b[0;36m, line \u001b[0;32m1\u001b[0m\n\u001b[0;31m    |\u001b[0m\n\u001b[0m    ^\u001b[0m\n\u001b[0;31mSyntaxError\u001b[0m\u001b[0;31m:\u001b[0m invalid syntax\n"
          ]
        }
      ]
    }
  ]
}